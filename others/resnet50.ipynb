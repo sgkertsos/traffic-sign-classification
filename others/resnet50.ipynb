{
 "cells": [
  {
   "cell_type": "markdown",
   "id": "f9a9a1dc-3cd5-4871-965e-724e5425d2f9",
   "metadata": {},
   "source": [
    "### Import necessary libraries"
   ]
  },
  {
   "cell_type": "code",
   "execution_count": 1,
   "id": "42c76888-788b-4d9c-9d7c-b86e0870b745",
   "metadata": {},
   "outputs": [
    {
     "name": "stderr",
     "output_type": "stream",
     "text": [
      "2025-01-11 19:21:01.561387: E tensorflow/compiler/xla/stream_executor/cuda/cuda_dnn.cc:9342] Unable to register cuDNN factory: Attempting to register factory for plugin cuDNN when one has already been registered\n",
      "2025-01-11 19:21:01.561430: E tensorflow/compiler/xla/stream_executor/cuda/cuda_fft.cc:609] Unable to register cuFFT factory: Attempting to register factory for plugin cuFFT when one has already been registered\n",
      "2025-01-11 19:21:01.561482: E tensorflow/compiler/xla/stream_executor/cuda/cuda_blas.cc:1518] Unable to register cuBLAS factory: Attempting to register factory for plugin cuBLAS when one has already been registered\n",
      "2025-01-11 19:21:01.570248: I tensorflow/core/platform/cpu_feature_guard.cc:182] This TensorFlow binary is optimized to use available CPU instructions in performance-critical operations.\n",
      "To enable the following instructions: AVX2 FMA, in other operations, rebuild TensorFlow with the appropriate compiler flags.\n"
     ]
    }
   ],
   "source": [
    "import os\n",
    "import numpy as np\n",
    "import matplotlib.pyplot as plt\n",
    "from PIL import Image\n",
    "from sklearn.model_selection import train_test_split\n",
    "\n",
    "import tensorflow as tf\n",
    "from tensorflow import keras\n",
    "from tensorflow.keras.applications import ResNet50\n",
    "from tensorflow.keras.layers import Dense, GlobalAveragePooling2D, Dropout\n",
    "from tensorflow.keras.models import Model\n",
    "from tensorflow.keras.optimizers import Adam"
   ]
  },
  {
   "cell_type": "markdown",
   "id": "3928d10b-07ab-48d0-a007-44f4c5cae505",
   "metadata": {},
   "source": [
    "### Variables"
   ]
  },
  {
   "cell_type": "code",
   "execution_count": 2,
   "id": "b3af1386-e98e-458f-9706-cea40775e956",
   "metadata": {},
   "outputs": [],
   "source": [
    "classes = 43"
   ]
  },
  {
   "cell_type": "markdown",
   "id": "c79af972-f874-425d-9986-1091cc587c77",
   "metadata": {},
   "source": [
    "### Create model"
   ]
  },
  {
   "cell_type": "code",
   "execution_count": 3,
   "id": "08b8d46e-6bb0-4cb1-8a33-f0e149a890bb",
   "metadata": {},
   "outputs": [],
   "source": [
    "def create_model(learning_rate=0.0001):\n",
    "    \n",
    "    base_model = ResNet50(\n",
    "    weights='imagenet',\n",
    "    include_top=False,\n",
    "    input_shape=(32, 32, 3)\n",
    "    )\n",
    "    \n",
    "    for layer in base_model.layers:\n",
    "        layer.trainable = False\n",
    "\n",
    "    x = base_model.output\n",
    "    x = GlobalAveragePooling2D()(x)\n",
    "    x = Dense(512, activation='relu')(x)\n",
    "    x = Dropout(0.5)(x)\n",
    "    x = Dense(256, activation='relu')(x)\n",
    "    x = Dropout(0.3)(x)\n",
    "    predictions = Dense(43, activation='softmax')(x)\n",
    "\n",
    "    model = Model(inputs=base_model.input, outputs=predictions)\n",
    "\n",
    "    optimizer = keras.optimizers.Adam(learning_rate)\n",
    "    loss = keras.losses.CategoricalCrossentropy(from_logits=True)\n",
    "    \n",
    "    model.compile(\n",
    "        optimizer=optimizer,\n",
    "        loss=loss,\n",
    "        metrics=['accuracy']\n",
    "    )\n",
    "    \n",
    "    return model\n"
   ]
  },
  {
   "cell_type": "markdown",
   "id": "5047888c-d444-4288-87c2-af869b42068b",
   "metadata": {},
   "source": [
    "### Resize all images to 32x32 pixels"
   ]
  },
  {
   "cell_type": "code",
   "execution_count": 4,
   "id": "1c80b117-e2c8-46dd-b900-b0e124086287",
   "metadata": {},
   "outputs": [],
   "source": [
    "def resize_images(size=(32, 32)):\n",
    "    for i in range(classes):\n",
    "        input_directory = f\"../app/data/train/{i}\"\n",
    "        output_directory = f\"../app/data/train-r/{i}\"\n",
    "        \n",
    "        if not os.path.exists(output_directory):\n",
    "            os.makedirs(output_directory)\n",
    "    \n",
    "        for filename in os.listdir(input_directory):\n",
    "            input_path = os.path.join(input_directory, filename)\n",
    "            output_path = os.path.join(output_directory, filename)\n",
    "    \n",
    "            try:\n",
    "                with Image.open(input_path) as img:\n",
    "                    img = img.resize(size)\n",
    "                    img.save(output_path)\n",
    "                    print(f\"Resized and saved: {output_path}\")\n",
    "            except Exception as e:\n",
    "                print(f\"Error processing {input_path}: {e}\")"
   ]
  },
  {
   "cell_type": "code",
   "execution_count": null,
   "id": "3fef97b2",
   "metadata": {},
   "outputs": [],
   "source": [
    "resize_images(size=(32, 32))"
   ]
  },
  {
   "cell_type": "markdown",
   "id": "5f811c27-4923-4461-b407-7f287b6a5404",
   "metadata": {},
   "source": [
    "### Load train images"
   ]
  },
  {
   "cell_type": "code",
   "execution_count": 6,
   "id": "cbab07e4-e3e3-4b78-8a7b-081d0d05d524",
   "metadata": {},
   "outputs": [],
   "source": [
    "def load_images():\n",
    "    \n",
    "    sign_images = []\n",
    "    sign_indexes = []\n",
    "\n",
    "    for i in range(classes):\n",
    "        \n",
    "        input_directory = f\"../app/data/train-r/{i}\"\n",
    "        \n",
    "        for filename in os.listdir(input_directory):\n",
    "            input_path = os.path.join(input_directory, filename)\n",
    "\n",
    "            try:\n",
    "                with Image.open(input_path) as img:\n",
    "                    sign_images.append(np.array(img))\n",
    "                    sign_indexes.append(i)\n",
    "            except Exception as e:\n",
    "                print(f\"Error processing {input_path}: {e}\")\n",
    "\n",
    "    sign_images = np.array(sign_images)\n",
    "    sign_indexes = np.array(sign_indexes)\n",
    "\n",
    "    return sign_images, sign_indexes"
   ]
  },
  {
   "cell_type": "code",
   "execution_count": 7,
   "id": "07efb76b-9769-4dfc-b8c9-9bdeafc64d99",
   "metadata": {},
   "outputs": [],
   "source": [
    "sign_images, sign_indexes = load_images()"
   ]
  },
  {
   "cell_type": "markdown",
   "id": "0d13b6de-3778-46c7-8e47-e5e3a7984591",
   "metadata": {},
   "source": [
    "### Split train images"
   ]
  },
  {
   "cell_type": "code",
   "execution_count": 8,
   "id": "b988dd2c-a0f0-424f-ae9d-642330971dfe",
   "metadata": {},
   "outputs": [],
   "source": [
    "X_train, X_val, y_train, y_val = train_test_split(sign_images, sign_indexes, test_size=0.2, random_state=42)"
   ]
  },
  {
   "cell_type": "code",
   "execution_count": 9,
   "id": "50dd6615-70ce-4625-8934-3ff159fb067f",
   "metadata": {},
   "outputs": [],
   "source": [
    "y_train = keras.utils.to_categorical(y_train, classes)\n",
    "y_val = keras.utils.to_categorical(y_val, classes)"
   ]
  },
  {
   "cell_type": "code",
   "execution_count": 26,
   "id": "54740bcd-5b16-4276-8d1b-bc78da247861",
   "metadata": {},
   "outputs": [
    {
     "data": {
      "text/plain": [
       "((39209, 32, 32, 3), (39209,))"
      ]
     },
     "execution_count": 26,
     "metadata": {},
     "output_type": "execute_result"
    }
   ],
   "source": [
    "sign_images.shape, sign_indexes.shape"
   ]
  },
  {
   "cell_type": "code",
   "execution_count": 27,
   "id": "eea0a0bf-7718-4c9f-961a-44adf62ec33d",
   "metadata": {},
   "outputs": [
    {
     "data": {
      "text/plain": [
       "((31367, 32, 32, 3), (7842, 32, 32, 3))"
      ]
     },
     "execution_count": 27,
     "metadata": {},
     "output_type": "execute_result"
    }
   ],
   "source": [
    "X_train.shape, X_val.shape"
   ]
  },
  {
   "cell_type": "code",
   "execution_count": 28,
   "id": "dfa0cc4b-2b76-465d-bdc0-2bfb5a1403cd",
   "metadata": {},
   "outputs": [
    {
     "data": {
      "text/plain": [
       "((31367, 43), (7842, 43))"
      ]
     },
     "execution_count": 28,
     "metadata": {},
     "output_type": "execute_result"
    }
   ],
   "source": [
    "y_train.shape, y_val.shape"
   ]
  },
  {
   "cell_type": "markdown",
   "id": "4ed829df-1d74-440f-8d9e-63fabecb58bc",
   "metadata": {},
   "source": [
    "### Train model"
   ]
  },
  {
   "cell_type": "markdown",
   "id": "d4c437f0-9ff5-4237-b0a7-07210717c3aa",
   "metadata": {},
   "source": [
    "The model was trained for different **learning rate** values. Below you can see the **valuation accuracy** achieved for each **learning rate** value:\n",
    "\n",
    "| Learning rate      | 0.1  | 0.01 | 0.001 | 0.0001 |\n",
    "| :-------------------| :---- | :---- | :----- | :------ |\n",
    "| Valuation accuracy | 0.06 | 0.12 | 0.85  | 0.91   |\n",
    "\n",
    "We can see that for learning rate value of **0.0001** we have the best accuracy of **0.91**"
   ]
  },
  {
   "cell_type": "code",
   "execution_count": 18,
   "id": "c8f3156c-b856-43b1-bd07-cc052710e06a",
   "metadata": {},
   "outputs": [],
   "source": [
    "model = create_model(learning_rate=0.0001)"
   ]
  },
  {
   "cell_type": "code",
   "execution_count": 19,
   "id": "8d5fafa5-3e99-4397-ad1a-84e912f0f4fc",
   "metadata": {},
   "outputs": [
    {
     "name": "stdout",
     "output_type": "stream",
     "text": [
      "Epoch 1/35\n",
      "981/981 [==============================] - 19s 16ms/step - loss: 2.9909 - accuracy: 0.2602 - val_loss: 1.8014 - val_accuracy: 0.4779\n",
      "Epoch 2/35\n",
      "981/981 [==============================] - 14s 14ms/step - loss: 1.9508 - accuracy: 0.4200 - val_loss: 1.4059 - val_accuracy: 0.5618\n",
      "Epoch 3/35\n",
      "981/981 [==============================] - 14s 14ms/step - loss: 1.5889 - accuracy: 0.5025 - val_loss: 1.1649 - val_accuracy: 0.6456\n",
      "Epoch 4/35\n",
      "981/981 [==============================] - 14s 15ms/step - loss: 1.3675 - accuracy: 0.5667 - val_loss: 1.0024 - val_accuracy: 0.6889\n",
      "Epoch 5/35\n",
      "981/981 [==============================] - 14s 15ms/step - loss: 1.1882 - accuracy: 0.6149 - val_loss: 0.8780 - val_accuracy: 0.7334\n",
      "Epoch 6/35\n",
      "981/981 [==============================] - 14s 14ms/step - loss: 1.0565 - accuracy: 0.6558 - val_loss: 0.7838 - val_accuracy: 0.7485\n",
      "Epoch 7/35\n",
      "981/981 [==============================] - 14s 14ms/step - loss: 0.9438 - accuracy: 0.6924 - val_loss: 0.7041 - val_accuracy: 0.7808\n",
      "Epoch 8/35\n",
      "981/981 [==============================] - 14s 14ms/step - loss: 0.8621 - accuracy: 0.7188 - val_loss: 0.6477 - val_accuracy: 0.7951\n",
      "Epoch 9/35\n",
      "981/981 [==============================] - 14s 14ms/step - loss: 0.7705 - accuracy: 0.7483 - val_loss: 0.5859 - val_accuracy: 0.8188\n",
      "Epoch 10/35\n",
      "981/981 [==============================] - 14s 15ms/step - loss: 0.7046 - accuracy: 0.7701 - val_loss: 0.5502 - val_accuracy: 0.8203\n",
      "Epoch 11/35\n",
      "981/981 [==============================] - 14s 14ms/step - loss: 0.6495 - accuracy: 0.7864 - val_loss: 0.5148 - val_accuracy: 0.8381\n",
      "Epoch 12/35\n",
      "981/981 [==============================] - 14s 15ms/step - loss: 0.5923 - accuracy: 0.8045 - val_loss: 0.4728 - val_accuracy: 0.8489\n",
      "Epoch 13/35\n",
      "981/981 [==============================] - 14s 14ms/step - loss: 0.5513 - accuracy: 0.8170 - val_loss: 0.4464 - val_accuracy: 0.8563\n",
      "Epoch 14/35\n",
      "981/981 [==============================] - 14s 15ms/step - loss: 0.5068 - accuracy: 0.8314 - val_loss: 0.4268 - val_accuracy: 0.8638\n",
      "Epoch 15/35\n",
      "981/981 [==============================] - 14s 14ms/step - loss: 0.4666 - accuracy: 0.8447 - val_loss: 0.4112 - val_accuracy: 0.8687\n",
      "Epoch 16/35\n",
      "981/981 [==============================] - 14s 14ms/step - loss: 0.4386 - accuracy: 0.8526 - val_loss: 0.3897 - val_accuracy: 0.8748\n",
      "Epoch 17/35\n",
      "981/981 [==============================] - 14s 14ms/step - loss: 0.4064 - accuracy: 0.8641 - val_loss: 0.3773 - val_accuracy: 0.8795\n",
      "Epoch 18/35\n",
      "981/981 [==============================] - 14s 14ms/step - loss: 0.3792 - accuracy: 0.8739 - val_loss: 0.3634 - val_accuracy: 0.8857\n",
      "Epoch 19/35\n",
      "981/981 [==============================] - 14s 14ms/step - loss: 0.3606 - accuracy: 0.8798 - val_loss: 0.3536 - val_accuracy: 0.8897\n",
      "Epoch 20/35\n",
      "981/981 [==============================] - 14s 14ms/step - loss: 0.3386 - accuracy: 0.8878 - val_loss: 0.3377 - val_accuracy: 0.8945\n",
      "Epoch 21/35\n",
      "981/981 [==============================] - 14s 14ms/step - loss: 0.3167 - accuracy: 0.8941 - val_loss: 0.3420 - val_accuracy: 0.8892\n",
      "Epoch 22/35\n",
      "981/981 [==============================] - 15s 15ms/step - loss: 0.3025 - accuracy: 0.8981 - val_loss: 0.3370 - val_accuracy: 0.8894\n",
      "Epoch 23/35\n",
      "981/981 [==============================] - 14s 14ms/step - loss: 0.2870 - accuracy: 0.9038 - val_loss: 0.3163 - val_accuracy: 0.8999\n",
      "Epoch 24/35\n",
      "981/981 [==============================] - 14s 14ms/step - loss: 0.2690 - accuracy: 0.9096 - val_loss: 0.3209 - val_accuracy: 0.9003\n",
      "Epoch 25/35\n",
      "981/981 [==============================] - 14s 14ms/step - loss: 0.2602 - accuracy: 0.9117 - val_loss: 0.3188 - val_accuracy: 0.8984\n",
      "Epoch 26/35\n",
      "981/981 [==============================] - 14s 15ms/step - loss: 0.2440 - accuracy: 0.9177 - val_loss: 0.3048 - val_accuracy: 0.9047\n",
      "Epoch 27/35\n",
      "981/981 [==============================] - 15s 15ms/step - loss: 0.2417 - accuracy: 0.9207 - val_loss: 0.3022 - val_accuracy: 0.9065\n",
      "Epoch 28/35\n",
      "981/981 [==============================] - 15s 15ms/step - loss: 0.2178 - accuracy: 0.9257 - val_loss: 0.2966 - val_accuracy: 0.9070\n",
      "Epoch 29/35\n",
      "981/981 [==============================] - 14s 14ms/step - loss: 0.2089 - accuracy: 0.9297 - val_loss: 0.2957 - val_accuracy: 0.9075\n",
      "Epoch 30/35\n",
      "981/981 [==============================] - 14s 14ms/step - loss: 0.2069 - accuracy: 0.9309 - val_loss: 0.2935 - val_accuracy: 0.9100\n",
      "Epoch 31/35\n",
      "981/981 [==============================] - 14s 14ms/step - loss: 0.1977 - accuracy: 0.9335 - val_loss: 0.2896 - val_accuracy: 0.9097\n",
      "Epoch 32/35\n",
      "981/981 [==============================] - 14s 14ms/step - loss: 0.1881 - accuracy: 0.9370 - val_loss: 0.2892 - val_accuracy: 0.9132\n",
      "Epoch 33/35\n",
      "981/981 [==============================] - 14s 14ms/step - loss: 0.1820 - accuracy: 0.9387 - val_loss: 0.2814 - val_accuracy: 0.9155\n",
      "Epoch 34/35\n",
      "981/981 [==============================] - 14s 14ms/step - loss: 0.1762 - accuracy: 0.9401 - val_loss: 0.2927 - val_accuracy: 0.9121\n",
      "Epoch 35/35\n",
      "981/981 [==============================] - 14s 14ms/step - loss: 0.1721 - accuracy: 0.9419 - val_loss: 0.2939 - val_accuracy: 0.9146\n"
     ]
    }
   ],
   "source": [
    "checkpoint = tf.keras.callbacks.ModelCheckpoint (\n",
    "    \"./checkpoints/traffic_sign_classification_resnet50_lr0001_{epoch:02d}_{val_accuracy:.3f}.h5\",\n",
    "    save_best_only=True,\n",
    "    monitor=\"val_accuracy\"\n",
    ")\n",
    "\n",
    "history = model.fit(X_train,y_train,\n",
    "                    validation_data=(X_val, y_val),\n",
    "                    epochs=35, batch_size=32, \n",
    "                    callbacks=[checkpoint])"
   ]
  },
  {
   "cell_type": "markdown",
   "id": "4b8c193f-6ad7-403d-8543-cebde7112683",
   "metadata": {},
   "source": [
    "### Plot accuracy and loss"
   ]
  },
  {
   "cell_type": "code",
   "execution_count": 20,
   "id": "e1a13c78-bb84-4007-ba19-0db0b2ff27ca",
   "metadata": {},
   "outputs": [
    {
     "data": {
      "text/plain": [
       "<matplotlib.legend.Legend at 0x7bde8fddd420>"
      ]
     },
     "execution_count": 20,
     "metadata": {},
     "output_type": "execute_result"
    },
    {
     "data": {
      "image/png": "[encoded data removed]",
      "text/plain": [
       "<Figure size 640x480 with 1 Axes>"
      ]
     },
     "metadata": {},
     "output_type": "display_data"
    }
   ],
   "source": [
    "plt.plot(history.history['accuracy'], label='acc')\n",
    "plt.plot(history.history['val_accuracy'], label='val_acc')\n",
    "plt.plot(history.history['loss'], label='loss')\n",
    "plt.plot(history.history['val_loss'], label='val_loss')\n",
    "plt.legend()"
   ]
  },
  {
   "cell_type": "markdown",
   "id": "b0ce9a88-5912-4996-b9fe-bfde5eb16b8f",
   "metadata": {},
   "source": [
    "In this graph we can see that that **accuracy** and **val_accuracy** values are rising and at the same time **loss** and **val_loss** values are decreasing."
   ]
  },
  {
   "cell_type": "markdown",
   "id": "96b7c951-2516-4128-b645-c300ae2634cd",
   "metadata": {},
   "source": [
    "### Make predictions"
   ]
  },
  {
   "cell_type": "code",
   "execution_count": 21,
   "id": "91fdc318-5c3c-487e-9a3c-b47cb3499319",
   "metadata": {},
   "outputs": [],
   "source": [
    "class_descriptions = {\n",
    "    0: 'Speed limit (20km/h)',\n",
    "    1: 'Speed limit (30km/h)',\n",
    "    2: 'Speed limit (50km/h)',\n",
    "    3: 'Speed limit (60km/h)',\n",
    "    4: 'Speed limit (70km/h)',\n",
    "    5: 'Speed limit (80km/h)',\n",
    "    6: 'End of speed limit (80km/h)',\n",
    "    7: 'Speed limit (100km/h)',\n",
    "    8: 'Speed limit (120km/h)',\n",
    "    9: 'No passing',\n",
    "    10: 'No passing for vehicles over 3.5 metric tons',\n",
    "    11: 'Right-of-way at the next intersection',\n",
    "    12: 'Priority road',\n",
    "    13: 'Yield',\n",
    "    14: 'Stop',\n",
    "    15: 'No vehicles',\n",
    "    16: 'Vehicles over 3.5 metric tons prohibited',\n",
    "    17: 'No entry',\n",
    "    18: 'General caution',\n",
    "    19: 'Dangerous curve to the left',\n",
    "    20: 'Dangerous curve to the right',\n",
    "    21: 'Double curve',\n",
    "    22: 'Bumpy road',\n",
    "    23: 'Slippery road',\n",
    "    24: 'Road narrows on the right',\n",
    "    25: 'Road work',\n",
    "    26: 'Traffic signals',\n",
    "    27: 'Pedestrians',\n",
    "    28: 'Children crossing',\n",
    "    29: 'Bicycles crossing',\n",
    "    30: 'Beware of ice/snow',\n",
    "    31: 'Wild animals crossing',\n",
    "    32: 'End of all speed and passing limits',\n",
    "    33: 'Turn right ahead',\n",
    "    34: 'Turn left ahead',\n",
    "    35: 'Ahead only',\n",
    "    36: 'Go straight or right',\n",
    "    37: 'Go straight or left',\n",
    "    38: 'Keep right',\n",
    "    39: 'Keep left',\n",
    "    40: 'Roundabout mandatory',\n",
    "    41: 'End of no passing',\n",
    "    42: 'End of no passing by vehicles over 3.5 metric'\n",
    "}"
   ]
  },
  {
   "cell_type": "code",
   "execution_count": 22,
   "id": "a8dc495d-d5e4-4403-9a70-5be2537b9485",
   "metadata": {},
   "outputs": [],
   "source": [
    "image = '../app/data/test/00001.png'"
   ]
  },
  {
   "cell_type": "code",
   "execution_count": 23,
   "id": "96e61f00-d583-404b-8bf8-ada01f757dec",
   "metadata": {},
   "outputs": [],
   "source": [
    "def make_prediction(image):\n",
    "    # Load model\n",
    "    # You can select the file you want from the checkpoints folder\n",
    "    model = keras.models.load_model('./checkpoints/traffic_sign_classification_resnet50_lr0001_33_0.915.h5')\n",
    "    \n",
    "    # Load image\n",
    "    try:\n",
    "        img = Image.open(image)\n",
    "        img = img.resize((32,32))\n",
    "        \n",
    "    except Exception as e:\n",
    "        print(f\"Error processing {input_path}: {e}\")\n",
    "\n",
    "\n",
    "    # Create image matrix\n",
    "    x = np.array(img)\n",
    "    X = np.array([x])\n",
    "    print(type(x))\n",
    "    print(X.shape)\n",
    "    \n",
    "    # Make prediction\n",
    "    pred = model.predict(X)\n",
    "\n",
    "    # Get class info\n",
    "    class_index = pred[0].argmax()\n",
    "    class_name = class_descriptions[class_index]\n",
    "\n",
    "    # Return info\n",
    "    return class_index, class_name"
   ]
  },
  {
   "cell_type": "code",
   "execution_count": 24,
   "id": "4f26593e-f227-418e-a291-96f14b039174",
   "metadata": {},
   "outputs": [
    {
     "name": "stdout",
     "output_type": "stream",
     "text": [
      "<class 'numpy.ndarray'>\n",
      "(1, 32, 32, 3)\n",
      "1/1 [==============================] - 1s 1s/step\n"
     ]
    }
   ],
   "source": [
    "class_index, class_name = make_prediction(image)"
   ]
  },
  {
   "cell_type": "code",
   "execution_count": 25,
   "id": "183427b5-2161-4102-bd67-265164e39550",
   "metadata": {},
   "outputs": [
    {
     "data": {
      "text/plain": [
       "(1, 'Speed limit (30km/h)')"
      ]
     },
     "execution_count": 25,
     "metadata": {},
     "output_type": "execute_result"
    }
   ],
   "source": [
    "class_index, class_name"
   ]
  },
  {
   "cell_type": "code",
   "execution_count": null,
   "id": "cb19b839-0f5f-47a9-a992-3fad843d7c04",
   "metadata": {},
   "outputs": [],
   "source": []
  }
 ],
 "metadata": {
  "kernelspec": {
   "display_name": "Python 3 (ipykernel)",
   "language": "python",
   "name": "python3"
  },
  "language_info": {
   "codemirror_mode": {
    "name": "ipython",
    "version": 3
   },
   "file_extension": ".py",
   "mimetype": "text/x-python",
   "name": "python",
   "nbconvert_exporter": "python",
   "pygments_lexer": "ipython3",
   "version": "3.10.16"
  }
 },
 "nbformat": 4,
 "nbformat_minor": 5
}
