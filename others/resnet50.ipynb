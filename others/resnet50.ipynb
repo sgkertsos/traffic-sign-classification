{
 "cells": [
  {
   "cell_type": "markdown",
   "id": "f9a9a1dc-3cd5-4871-965e-724e5425d2f9",
   "metadata": {},
   "source": [
    "### Import necessary libraries"
   ]
  },
  {
   "cell_type": "code",
   "execution_count": null,
   "id": "f9ba0fe3-1705-41a4-987b-42233ee4e5f4",
   "metadata": {},
   "outputs": [],
   "source": [
    "import os\n",
    "import numpy as np\n",
    "import matplotlib.pyplot as plt\n",
    "from PIL import Image\n",
    "\n",
    "from sklearn.model_selection import train_test_split\n",
    "\n",
    "import tensorflow as tf\n",
    "from tensorflow import keras\n",
    "from tensorflow.keras.applications import ResNet50\n",
    "from tensorflow.keras.layers import Dense, GlobalAveragePooling2D, Dropout\n",
    "from tensorflow.keras.models import Model\n",
    "from tensorflow.keras.optimizers import Adam\n"
   ]
  },
  {
   "cell_type": "markdown",
   "id": "3928d10b-07ab-48d0-a007-44f4c5cae505",
   "metadata": {},
   "source": [
    "### Variables"
   ]
  },
  {
   "cell_type": "code",
   "execution_count": 2,
   "id": "b3af1386-e98e-458f-9706-cea40775e956",
   "metadata": {},
   "outputs": [],
   "source": [
    "classes = 43"
   ]
  },
  {
   "cell_type": "markdown",
   "id": "c79af972-f874-425d-9986-1091cc587c77",
   "metadata": {},
   "source": [
    "### Create model"
   ]
  },
  {
   "cell_type": "code",
   "execution_count": 3,
   "id": "08b8d46e-6bb0-4cb1-8a33-f0e149a890bb",
   "metadata": {},
   "outputs": [],
   "source": [
    "def create_model(learning_rate=0.0001):\n",
    "    \n",
    "    base_model = ResNet50(\n",
    "    weights='imagenet',\n",
    "    include_top=False,\n",
    "    input_shape=(32, 32, 3)\n",
    "    )\n",
    "    \n",
    "    for layer in base_model.layers:\n",
    "        layer.trainable = False\n",
    "\n",
    "    x = base_model.output\n",
    "    x = GlobalAveragePooling2D()(x)\n",
    "    x = Dense(512, activation='relu')(x)\n",
    "    x = Dropout(0.5)(x)\n",
    "    x = Dense(256, activation='relu')(x)\n",
    "    x = Dropout(0.3)(x)\n",
    "    predictions = Dense(43, activation='softmax')(x)\n",
    "\n",
    "    model = Model(inputs=base_model.input, outputs=predictions)\n",
    "\n",
    "    optimizer = keras.optimizers.Adam(learning_rate)\n",
    "    loss = keras.losses.CategoricalCrossentropy(from_logits=True)\n",
    "    \n",
    "    model.compile(\n",
    "        optimizer=optimizer,\n",
    "        loss=loss,\n",
    "        metrics=['accuracy']\n",
    "    )\n",
    "    \n",
    "    return model\n"
   ]
  },
  {
   "cell_type": "markdown",
   "id": "5047888c-d444-4288-87c2-af869b42068b",
   "metadata": {},
   "source": [
    "### Resize all images to 32x32 pixels"
   ]
  },
  {
   "cell_type": "code",
   "execution_count": 4,
   "id": "1c80b117-e2c8-46dd-b900-b0e124086287",
   "metadata": {},
   "outputs": [],
   "source": [
    "def resize_images(size=(32, 32)):\n",
    "    for i in range(classes):\n",
    "        input_directory = f\"../app/data/train/{i}\"\n",
    "        output_directory = f\"../app/data/train-r/{i}\"\n",
    "        \n",
    "        if not os.path.exists(output_directory):\n",
    "            os.makedirs(output_directory)\n",
    "    \n",
    "        for filename in os.listdir(input_directory):\n",
    "            input_path = os.path.join(input_directory, filename)\n",
    "            output_path = os.path.join(output_directory, filename)\n",
    "    \n",
    "            try:\n",
    "                with Image.open(input_path) as img:\n",
    "                    img = img.resize(size)\n",
    "                    img.save(output_path)\n",
    "                    print(f\"Resized and saved: {output_path}\")\n",
    "            except Exception as e:\n",
    "                print(f\"Error processing {input_path}: {e}\")"
   ]
  },
  {
   "cell_type": "code",
   "execution_count": null,
   "id": "3fef97b2",
   "metadata": {},
   "outputs": [],
   "source": [
    "resize_images(size=(32, 32))"
   ]
  },
  {
   "cell_type": "markdown",
   "id": "5f811c27-4923-4461-b407-7f287b6a5404",
   "metadata": {},
   "source": [
    "### Load train images"
   ]
  },
  {
   "cell_type": "code",
   "execution_count": 5,
   "id": "cbab07e4-e3e3-4b78-8a7b-081d0d05d524",
   "metadata": {},
   "outputs": [],
   "source": [
    "def load_images():\n",
    "    \n",
    "    sign_images = []\n",
    "    sign_indexes = []\n",
    "\n",
    "    for i in range(classes):\n",
    "        \n",
    "        input_directory = f\"../app/data/train-r/{i}\"\n",
    "        \n",
    "        for filename in os.listdir(input_directory):\n",
    "            input_path = os.path.join(input_directory, filename)\n",
    "\n",
    "            try:\n",
    "                with Image.open(input_path) as img:\n",
    "                    sign_images.append(np.array(img))\n",
    "                    sign_indexes.append(i)\n",
    "            except Exception as e:\n",
    "                print(f\"Error processing {input_path}: {e}\")\n",
    "\n",
    "    sign_images = np.array(sign_images)\n",
    "    sign_indexes = np.array(sign_indexes)\n",
    "\n",
    "    return sign_images, sign_indexes"
   ]
  },
  {
   "cell_type": "code",
   "execution_count": 7,
   "id": "07efb76b-9769-4dfc-b8c9-9bdeafc64d99",
   "metadata": {},
   "outputs": [],
   "source": [
    "sign_images, sign_indexes = load_images()"
   ]
  },
  {
   "cell_type": "markdown",
   "id": "0d13b6de-3778-46c7-8e47-e5e3a7984591",
   "metadata": {},
   "source": [
    "### Split train images"
   ]
  },
  {
   "cell_type": "code",
   "execution_count": 8,
   "id": "b988dd2c-a0f0-424f-ae9d-642330971dfe",
   "metadata": {},
   "outputs": [],
   "source": [
    "X_train, X_val, y_train, y_val = train_test_split(sign_images, sign_indexes, test_size=0.2, random_state=42)"
   ]
  },
  {
   "cell_type": "code",
   "execution_count": 9,
   "id": "50dd6615-70ce-4625-8934-3ff159fb067f",
   "metadata": {},
   "outputs": [],
   "source": [
    "y_train = keras.utils.to_categorical(y_train, classes)\n",
    "y_val = keras.utils.to_categorical(y_val, classes)"
   ]
  },
  {
   "cell_type": "markdown",
   "id": "4ed829df-1d74-440f-8d9e-63fabecb58bc",
   "metadata": {},
   "source": [
    "### Train model"
   ]
  },
  {
   "cell_type": "code",
   "execution_count": null,
   "id": "c8f3156c-b856-43b1-bd07-cc052710e06a",
   "metadata": {},
   "outputs": [],
   "source": [
    "model = create_model(learning_rate=0.1)"
   ]
  },
  {
   "cell_type": "code",
   "execution_count": null,
   "id": "f47935fd-ded1-4d4f-944a-69988260407d",
   "metadata": {},
   "outputs": [],
   "source": [
    "model.describe()"
   ]
  },
  {
   "cell_type": "code",
   "execution_count": null,
   "id": "8d5fafa5-3e99-4397-ad1a-84e912f0f4fc",
   "metadata": {},
   "outputs": [],
   "source": [
    "checkpoint = tf.keras.callbacks.ModelCheckpoint (\n",
    "    \"../checkpoints/traffic_sign_classification_resnet50_lr1_{epoch:02d}_{val_accuracy:.3f}.h5\",\n",
    "    save_best_only=True,\n",
    "    monitor=\"val_accuracy\"\n",
    ")\n",
    "\n",
    "history = model.fit(X_train,y_train,\n",
    "                    validation_data=(X_val, y_val),\n",
    "                    epochs=35, batch_size=32, \n",
    "                    callbacks=[checkpoint])"
   ]
  },
  {
   "cell_type": "markdown",
   "id": "4b8c193f-6ad7-403d-8543-cebde7112683",
   "metadata": {},
   "source": [
    "### Plot accuracy and loss"
   ]
  },
  {
   "cell_type": "code",
   "execution_count": 27,
   "id": "e1a13c78-bb84-4007-ba19-0db0b2ff27ca",
   "metadata": {},
   "outputs": [
    {
     "data": {
      "text/plain": [
       "<matplotlib.legend.Legend at 0x731a99749c00>"
      ]
     },
     "execution_count": 27,
     "metadata": {},
     "output_type": "execute_result"
    },
    {
     "data": {
      "image/png": "[encoded data removed]",
      "text/plain": [
       "<Figure size 640x480 with 1 Axes>"
      ]
     },
     "metadata": {},
     "output_type": "display_data"
    }
   ],
   "source": [
    "plt.plot(history.history['accuracy'], label='train')\n",
    "plt.plot(history.history['val_accuracy'], label='val')\n",
    "plt.plot(history.history['loss'], label='loss')\n",
    "plt.plot(history.history['val_loss'], label='val_loss')\n",
    "plt.legend()"
   ]
  },
  {
   "cell_type": "markdown",
   "id": "96b7c951-2516-4128-b645-c300ae2634cd",
   "metadata": {},
   "source": [
    "### Make predictions"
   ]
  },
  {
   "cell_type": "code",
   "execution_count": 11,
   "id": "91fdc318-5c3c-487e-9a3c-b47cb3499319",
   "metadata": {},
   "outputs": [],
   "source": [
    "class_descriptions = {\n",
    "    0: 'Speed limit (20km/h)',\n",
    "    1: 'Speed limit (30km/h)',\n",
    "    2: 'Speed limit (50km/h)',\n",
    "    3: 'Speed limit (60km/h)',\n",
    "    4: 'Speed limit (70km/h)',\n",
    "    5: 'Speed limit (80km/h)',\n",
    "    6: 'End of speed limit (80km/h)',\n",
    "    7: 'Speed limit (100km/h)',\n",
    "    8: 'Speed limit (120km/h)',\n",
    "    9: 'No passing',\n",
    "    10: 'No passing for vehicles over 3.5 metric tons',\n",
    "    11: 'Right-of-way at the next intersection',\n",
    "    12: 'Priority road',\n",
    "    13: 'Yield',\n",
    "    14: 'Stop',\n",
    "    15: 'No vehicles',\n",
    "    16: 'Vehicles over 3.5 metric tons prohibited',\n",
    "    17: 'No entry',\n",
    "    18: 'General caution',\n",
    "    19: 'Dangerous curve to the left',\n",
    "    20: 'Dangerous curve to the right',\n",
    "    21: 'Double curve',\n",
    "    22: 'Bumpy road',\n",
    "    23: 'Slippery road',\n",
    "    24: 'Road narrows on the right',\n",
    "    25: 'Road work',\n",
    "    26: 'Traffic signals',\n",
    "    27: 'Pedestrians',\n",
    "    28: 'Children crossing',\n",
    "    29: 'Bicycles crossing',\n",
    "    30: 'Beware of ice/snow',\n",
    "    31: 'Wild animals crossing',\n",
    "    32: 'End of all speed and passing limits',\n",
    "    33: 'Turn right ahead',\n",
    "    34: 'Turn left ahead',\n",
    "    35: 'Ahead only',\n",
    "    36: 'Go straight or right',\n",
    "    37: 'Go straight or left',\n",
    "    38: 'Keep right',\n",
    "    39: 'Keep left',\n",
    "    40: 'Roundabout mandatory',\n",
    "    41: 'End of no passing',\n",
    "    42: 'End of no passing by vehicles over 3.5 metric'\n",
    "}"
   ]
  },
  {
   "cell_type": "code",
   "execution_count": 12,
   "id": "a8dc495d-d5e4-4403-9a70-5be2537b9485",
   "metadata": {},
   "outputs": [],
   "source": [
    "image = '../app/data/test/00001.png'"
   ]
  },
  {
   "cell_type": "code",
   "execution_count": 13,
   "id": "96e61f00-d583-404b-8bf8-ada01f757dec",
   "metadata": {},
   "outputs": [],
   "source": [
    "def make_prediction(image):\n",
    "    # Load model\n",
    "    model = keras.models.load_model('../checkpoints/traffic_sign_classification_resnet50_lr0001_34_0.914.h5')\n",
    "    \n",
    "    # Load image\n",
    "    try:\n",
    "        img = Image.open(image)\n",
    "        img = img.resize((32,32))\n",
    "        \n",
    "    except Exception as e:\n",
    "        print(f\"Error processing {input_path}: {e}\")\n",
    "\n",
    "\n",
    "    # Create image matrix\n",
    "    x = np.array(img)\n",
    "    X = np.array([x])\n",
    "    print(type(x))\n",
    "    print(X.shape)\n",
    "    \n",
    "    # Make prediction\n",
    "    pred = model.predict(X)\n",
    "\n",
    "    # Get class info\n",
    "    class_index = pred[0].argmax()\n",
    "    class_name = class_descriptions[class_index]\n",
    "\n",
    "    # Return info\n",
    "    return class_index, class_name"
   ]
  },
  {
   "cell_type": "code",
   "execution_count": 14,
   "id": "4f26593e-f227-418e-a291-96f14b039174",
   "metadata": {},
   "outputs": [
    {
     "name": "stdout",
     "output_type": "stream",
     "text": [
      "<class 'numpy.ndarray'>\n",
      "(1, 32, 32, 3)\n",
      "1/1 [==============================] - 1s 1s/step\n"
     ]
    }
   ],
   "source": [
    "class_index, class_name = make_prediction(image)"
   ]
  },
  {
   "cell_type": "code",
   "execution_count": 15,
   "id": "183427b5-2161-4102-bd67-265164e39550",
   "metadata": {},
   "outputs": [
    {
     "data": {
      "text/plain": [
       "(1, 'Speed limit (30km/h)')"
      ]
     },
     "execution_count": 15,
     "metadata": {},
     "output_type": "execute_result"
    }
   ],
   "source": [
    "class_index, class_name"
   ]
  },
  {
   "cell_type": "code",
   "execution_count": null,
   "id": "cb19b839-0f5f-47a9-a992-3fad843d7c04",
   "metadata": {},
   "outputs": [],
   "source": []
  }
 ],
 "metadata": {
  "kernelspec": {
   "display_name": "Python 3 (ipykernel)",
   "language": "python",
   "name": "python3"
  },
  "language_info": {
   "codemirror_mode": {
    "name": "ipython",
    "version": 3
   },
   "file_extension": ".py",
   "mimetype": "text/x-python",
   "name": "python",
   "nbconvert_exporter": "python",
   "pygments_lexer": "ipython3",
   "version": "3.10.16"
  }
 },
 "nbformat": 4,
 "nbformat_minor": 5
}
