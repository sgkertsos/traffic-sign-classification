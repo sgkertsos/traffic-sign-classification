{
 "cells": [
  {
   "cell_type": "code",
   "execution_count": 1,
   "id": "f9ba0fe3-1705-41a4-987b-42233ee4e5f4",
   "metadata": {
    "execution": {
     "iopub.execute_input": "2025-01-03T12:25:00.017220Z",
     "iopub.status.busy": "2025-01-03T12:25:00.016617Z",
     "iopub.status.idle": "2025-01-03T12:25:04.293172Z",
     "shell.execute_reply": "2025-01-03T12:25:04.292577Z",
     "shell.execute_reply.started": "2025-01-03T12:25:00.017194Z"
    }
   },
   "outputs": [
    {
     "name": "stderr",
     "output_type": "stream",
     "text": [
      "2025-01-03 12:25:00.263586: I tensorflow/core/util/port.cc:153] oneDNN custom operations are on. You may see slightly different numerical results due to floating-point round-off errors from different computation orders. To turn them off, set the environment variable `TF_ENABLE_ONEDNN_OPTS=0`.\n",
      "2025-01-03 12:25:00.281143: E external/local_xla/xla/stream_executor/cuda/cuda_fft.cc:477] Unable to register cuFFT factory: Attempting to register factory for plugin cuFFT when one has already been registered\n",
      "WARNING: All log messages before absl::InitializeLog() is called are written to STDERR\n",
      "E0000 00:00:1735907100.300812    7350 cuda_dnn.cc:8310] Unable to register cuDNN factory: Attempting to register factory for plugin cuDNN when one has already been registered\n",
      "E0000 00:00:1735907100.306847    7350 cuda_blas.cc:1418] Unable to register cuBLAS factory: Attempting to register factory for plugin cuBLAS when one has already been registered\n",
      "2025-01-03 12:25:00.326299: I tensorflow/core/platform/cpu_feature_guard.cc:210] This TensorFlow binary is optimized to use available CPU instructions in performance-critical operations.\n",
      "To enable the following instructions: AVX2 AVX512F AVX512_VNNI FMA, in other operations, rebuild TensorFlow with the appropriate compiler flags.\n"
     ]
    }
   ],
   "source": [
    "import tensorflow as tf\n",
    "from tensorflow.keras.applications import ResNet50\n",
    "from tensorflow.keras.preprocessing.image import ImageDataGenerator\n",
    "from tensorflow.keras.layers import Dense, GlobalAveragePooling2D, Dropout\n",
    "from tensorflow.keras.models import Model\n",
    "from tensorflow.keras.optimizers import Adam\n",
    "import numpy as np"
   ]
  },
  {
   "cell_type": "code",
   "execution_count": 16,
   "id": "08b8d46e-6bb0-4cb1-8a33-f0e149a890bb",
   "metadata": {
    "execution": {
     "iopub.execute_input": "2025-01-03T11:00:49.349893Z",
     "iopub.status.busy": "2025-01-03T11:00:49.349571Z",
     "iopub.status.idle": "2025-01-03T11:00:49.354601Z",
     "shell.execute_reply": "2025-01-03T11:00:49.353867Z",
     "shell.execute_reply.started": "2025-01-03T11:00:49.349871Z"
    }
   },
   "outputs": [],
   "source": [
    "def create_model():\n",
    "    base_model = ResNet50(\n",
    "    weights='imagenet',\n",
    "    include_top=False,\n",
    "    input_shape=(96, 96, 3)\n",
    "    )\n",
    "    \n",
    "    for layer in base_model.layers:\n",
    "        layer.trainable = False\n",
    "\n",
    "    x = base_model.output\n",
    "    x = GlobalAveragePooling2D()(x)\n",
    "    x = Dense(512, activation='relu')(x)\n",
    "    x = Dropout(0.5)(x)\n",
    "    x = Dense(256, activation='relu')(x)\n",
    "    x = Dropout(0.3)(x)\n",
    "    predictions = Dense(43, activation='softmax')(x)\n",
    "\n",
    "    return Model(inputs=base_model.input, outputs=predictions)\n"
   ]
  },
  {
   "cell_type": "code",
   "execution_count": 44,
   "id": "0ea0c13e-d376-4f63-abdc-dd3534b79de2",
   "metadata": {
    "execution": {
     "iopub.execute_input": "2025-01-03T11:39:16.339203Z",
     "iopub.status.busy": "2025-01-03T11:39:16.338832Z",
     "iopub.status.idle": "2025-01-03T11:39:16.343095Z",
     "shell.execute_reply": "2025-01-03T11:39:16.342300Z",
     "shell.execute_reply.started": "2025-01-03T11:39:16.339179Z"
    }
   },
   "outputs": [],
   "source": [
    "def create_data_generators():\n",
    "    train_datagen = ImageDataGenerator(\n",
    "        rescale=1./255,\n",
    "        rotation_range=10,\n",
    "        width_shift_range=0.1,\n",
    "        height_shift_range=0.1,\n",
    "        shear_range=0.1,\n",
    "        zoom_range=0.1,\n",
    "        horizontal_flip=False,\n",
    "        fill_mode='nearest',\n",
    "        brightness_range=[0.8, 1.2],\n",
    "    )\n",
    "\n",
    "    val_datagen = ImageDataGenerator(\n",
    "        rescale=1./255,\n",
    "    )\n",
    "\n",
    "    return train_datagen, val_datagen"
   ]
  },
  {
   "cell_type": "code",
   "execution_count": 45,
   "id": "c0b47c6b-79c8-4b3d-bfa8-a08db4d1a820",
   "metadata": {
    "execution": {
     "iopub.execute_input": "2025-01-03T11:39:17.576550Z",
     "iopub.status.busy": "2025-01-03T11:39:17.576213Z",
     "iopub.status.idle": "2025-01-03T11:39:17.580886Z",
     "shell.execute_reply": "2025-01-03T11:39:17.580180Z",
     "shell.execute_reply.started": "2025-01-03T11:39:17.576529Z"
    }
   },
   "outputs": [],
   "source": [
    "def train_model(model, train_generator, validation_generator, epochs=50):\n",
    "    callbacks = [\n",
    "        tf.keras.callbacks.EarlyStopping(\n",
    "            monitor='val_accuracy',\n",
    "            patience=10,\n",
    "            restore_best_weights=True\n",
    "        ),\n",
    "        tf.keras.callbacks.ReduceLROnPlateau(\n",
    "            monitor='val_loss',\n",
    "            factor=0.2,\n",
    "            patience=5,\n",
    "            min_lr=1e-6\n",
    "        )\n",
    "    ]\n",
    "\n",
    "    model.compile(\n",
    "        optimizer=Adam(learning_rate=1e-4),\n",
    "        loss='categorical_crossentropy',\n",
    "        metrics=['accuracy']\n",
    "    )\n",
    "\n",
    "    history = model.fit(\n",
    "        train_generator,\n",
    "        validation_data=validation_generator,\n",
    "        epochs=epochs,\n",
    "        callbacks=callbacks\n",
    "    )\n",
    "\n",
    "    return history"
   ]
  },
  {
   "cell_type": "code",
   "execution_count": 46,
   "id": "dcd29617-96c4-41a4-9d75-f61dfa25586f",
   "metadata": {
    "execution": {
     "iopub.execute_input": "2025-01-03T11:39:19.582923Z",
     "iopub.status.busy": "2025-01-03T11:39:19.582576Z",
     "iopub.status.idle": "2025-01-03T11:39:20.516385Z",
     "shell.execute_reply": "2025-01-03T11:39:20.515805Z",
     "shell.execute_reply.started": "2025-01-03T11:39:19.582900Z"
    }
   },
   "outputs": [],
   "source": [
    "model = create_model()\n",
    "\n",
    "train_datagen, val_datagen = create_data_generators()"
   ]
  },
  {
   "cell_type": "code",
   "execution_count": 47,
   "id": "a0574117-66eb-4966-81b2-682e0d70809b",
   "metadata": {
    "execution": {
     "iopub.execute_input": "2025-01-03T11:39:20.517613Z",
     "iopub.status.busy": "2025-01-03T11:39:20.517310Z",
     "iopub.status.idle": "2025-01-03T11:39:23.188532Z",
     "shell.execute_reply": "2025-01-03T11:39:23.188031Z",
     "shell.execute_reply.started": "2025-01-03T11:39:20.517593Z"
    }
   },
   "outputs": [
    {
     "name": "stdout",
     "output_type": "stream",
     "text": [
      "Found 39209 images belonging to 43 classes.\n",
      "Found 39209 images belonging to 43 classes.\n"
     ]
    }
   ],
   "source": [
    "train_generator = train_datagen.flow_from_directory(\n",
    "    './data/train',  \n",
    "    target_size=(96, 96),\n",
    "    batch_size=32,\n",
    "    class_mode='categorical'\n",
    ")\n",
    "\n",
    "validation_generator = val_datagen.flow_from_directory(\n",
    "    './data/train',  \n",
    "    target_size=(96, 96),\n",
    "    batch_size=32,\n",
    "    class_mode='categorical'\n",
    ")\n"
   ]
  },
  {
   "cell_type": "code",
   "execution_count": null,
   "id": "b8684525-7f93-43e6-8700-99c8ad73c74b",
   "metadata": {},
   "outputs": [],
   "source": [
    "history = train_model(model, train_generator=train_generator, validation_generator=validation_generator)"
   ]
  },
  {
   "cell_type": "code",
   "execution_count": 2,
   "id": "416b9246-98ac-4bee-aa6f-9a967adcfe71",
   "metadata": {
    "execution": {
     "iopub.execute_input": "2025-01-03T12:25:29.729601Z",
     "iopub.status.busy": "2025-01-03T12:25:29.729081Z",
     "iopub.status.idle": "2025-01-03T12:25:29.732773Z",
     "shell.execute_reply": "2025-01-03T12:25:29.731986Z",
     "shell.execute_reply.started": "2025-01-03T12:25:29.729578Z"
    }
   },
   "outputs": [],
   "source": [
    "import os\n",
    "from PIL import Image\n",
    "from tensorflow import keras"
   ]
  },
  {
   "cell_type": "code",
   "execution_count": 3,
   "id": "b3af1386-e98e-458f-9706-cea40775e956",
   "metadata": {
    "execution": {
     "iopub.execute_input": "2025-01-03T12:25:30.662702Z",
     "iopub.status.busy": "2025-01-03T12:25:30.662373Z",
     "iopub.status.idle": "2025-01-03T12:25:30.665816Z",
     "shell.execute_reply": "2025-01-03T12:25:30.665173Z",
     "shell.execute_reply.started": "2025-01-03T12:25:30.662681Z"
    }
   },
   "outputs": [],
   "source": [
    "signs = 43"
   ]
  },
  {
   "cell_type": "code",
   "execution_count": 76,
   "id": "1c80b117-e2c8-46dd-b900-b0e124086287",
   "metadata": {
    "execution": {
     "iopub.execute_input": "2025-01-03T12:10:58.619281Z",
     "iopub.status.busy": "2025-01-03T12:10:58.618916Z",
     "iopub.status.idle": "2025-01-03T12:10:58.623955Z",
     "shell.execute_reply": "2025-01-03T12:10:58.623163Z",
     "shell.execute_reply.started": "2025-01-03T12:10:58.619258Z"
    }
   },
   "outputs": [],
   "source": [
    "def resize_images(size=(32, 32)):\n",
    "    for i in range(signs):\n",
    "        input_directory = f\"./data/train/{i}\"\n",
    "        output_directory = f\"./data/train-r/{i}\"\n",
    "        \n",
    "        if not os.path.exists(output_directory):\n",
    "            os.makedirs(output_directory)\n",
    "    \n",
    "        for filename in os.listdir(input_directory):\n",
    "            input_path = os.path.join(input_directory, filename)\n",
    "            output_path = os.path.join(output_directory, filename)\n",
    "    \n",
    "            try:\n",
    "                with Image.open(input_path) as img:\n",
    "                    img = img.resize(size)\n",
    "                    img.save(output_path)\n",
    "                    print(f\"Resized and saved: {output_path}\")\n",
    "            except Exception as e:\n",
    "                print(f\"Error processing {input_path}: {e}\")"
   ]
  },
  {
   "cell_type": "code",
   "execution_count": null,
   "id": "8765e622-822d-4f95-ab1c-8a0eb1bbf72a",
   "metadata": {},
   "outputs": [],
   "source": [
    "resize_images(size=(32, 32))"
   ]
  },
  {
   "cell_type": "code",
   "execution_count": 4,
   "id": "cbab07e4-e3e3-4b78-8a7b-081d0d05d524",
   "metadata": {
    "execution": {
     "iopub.execute_input": "2025-01-03T12:25:35.528113Z",
     "iopub.status.busy": "2025-01-03T12:25:35.527777Z",
     "iopub.status.idle": "2025-01-03T12:25:35.532588Z",
     "shell.execute_reply": "2025-01-03T12:25:35.531856Z",
     "shell.execute_reply.started": "2025-01-03T12:25:35.528092Z"
    }
   },
   "outputs": [],
   "source": [
    "def load_images():\n",
    "    \n",
    "    sign_images = []\n",
    "    sign_indexes = []\n",
    "\n",
    "    for i in range(signs):\n",
    "        \n",
    "        input_directory = f\"./data/train-r/{i}\"\n",
    "        \n",
    "        for filename in os.listdir(input_directory):\n",
    "            input_path = os.path.join(input_directory, filename)\n",
    "\n",
    "            try:\n",
    "                with Image.open(input_path) as img:\n",
    "                    sign_images.append(np.array(img))\n",
    "                    sign_indexes.append(i)\n",
    "            except Exception as e:\n",
    "                print(f\"Error processing {input_path}: {e}\")\n",
    "\n",
    "    sign_images = np.array(sign_images)\n",
    "    sign_indexes = np.array(sign_indexes)\n",
    "\n",
    "    return sign_images, sign_indexes"
   ]
  },
  {
   "cell_type": "code",
   "execution_count": 5,
   "id": "07efb76b-9769-4dfc-b8c9-9bdeafc64d99",
   "metadata": {
    "execution": {
     "iopub.execute_input": "2025-01-03T12:25:37.655362Z",
     "iopub.status.busy": "2025-01-03T12:25:37.655049Z",
     "iopub.status.idle": "2025-01-03T12:25:44.115031Z",
     "shell.execute_reply": "2025-01-03T12:25:44.114189Z",
     "shell.execute_reply.started": "2025-01-03T12:25:37.655339Z"
    }
   },
   "outputs": [],
   "source": [
    "sign_images, sign_indexes = load_images()"
   ]
  },
  {
   "cell_type": "code",
   "execution_count": 6,
   "id": "4bb846a1-6cf8-44b2-a4f3-b49fc1505160",
   "metadata": {
    "execution": {
     "iopub.execute_input": "2025-01-03T12:25:45.502998Z",
     "iopub.status.busy": "2025-01-03T12:25:45.502643Z",
     "iopub.status.idle": "2025-01-03T12:25:45.824159Z",
     "shell.execute_reply": "2025-01-03T12:25:45.823582Z",
     "shell.execute_reply.started": "2025-01-03T12:25:45.502947Z"
    }
   },
   "outputs": [],
   "source": [
    "from sklearn.model_selection import train_test_split"
   ]
  },
  {
   "cell_type": "code",
   "execution_count": 7,
   "id": "b988dd2c-a0f0-424f-ae9d-642330971dfe",
   "metadata": {
    "execution": {
     "iopub.execute_input": "2025-01-03T12:25:47.150926Z",
     "iopub.status.busy": "2025-01-03T12:25:47.150389Z",
     "iopub.status.idle": "2025-01-03T12:25:47.196235Z",
     "shell.execute_reply": "2025-01-03T12:25:47.195624Z",
     "shell.execute_reply.started": "2025-01-03T12:25:47.150902Z"
    }
   },
   "outputs": [],
   "source": [
    "X_train, X_val, y_train, y_val = train_test_split(sign_images, sign_indexes, test_size=0.2, random_state=42)"
   ]
  },
  {
   "cell_type": "code",
   "execution_count": 8,
   "id": "50dd6615-70ce-4625-8934-3ff159fb067f",
   "metadata": {
    "execution": {
     "iopub.execute_input": "2025-01-03T12:25:48.509724Z",
     "iopub.status.busy": "2025-01-03T12:25:48.509399Z",
     "iopub.status.idle": "2025-01-03T12:25:48.518999Z",
     "shell.execute_reply": "2025-01-03T12:25:48.518446Z",
     "shell.execute_reply.started": "2025-01-03T12:25:48.509703Z"
    }
   },
   "outputs": [],
   "source": [
    "y_train = keras.utils.to_categorical(y_train, 43)\n",
    "y_val = keras.utils.to_categorical(y_val,43)"
   ]
  },
  {
   "cell_type": "code",
   "execution_count": 9,
   "id": "8c231eda-4ce2-43be-949d-a3ec88157dd8",
   "metadata": {
    "execution": {
     "iopub.execute_input": "2025-01-03T12:25:55.470088Z",
     "iopub.status.busy": "2025-01-03T12:25:55.469763Z",
     "iopub.status.idle": "2025-01-03T12:25:55.474365Z",
     "shell.execute_reply": "2025-01-03T12:25:55.473580Z",
     "shell.execute_reply.started": "2025-01-03T12:25:55.470067Z"
    }
   },
   "outputs": [],
   "source": [
    "def create_model():\n",
    "    base_model = ResNet50(\n",
    "    weights='imagenet',\n",
    "    include_top=False,\n",
    "    input_shape=(32, 32, 3)\n",
    "    )\n",
    "    \n",
    "    for layer in base_model.layers:\n",
    "        layer.trainable = False\n",
    "\n",
    "    x = base_model.output\n",
    "    x = GlobalAveragePooling2D()(x)\n",
    "    x = Dense(512, activation='relu')(x)\n",
    "    x = Dropout(0.5)(x)\n",
    "    x = Dense(256, activation='relu')(x)\n",
    "    x = Dropout(0.3)(x)\n",
    "    predictions = Dense(43, activation='softmax')(x)\n",
    "\n",
    "    return Model(inputs=base_model.input, outputs=predictions)"
   ]
  },
  {
   "cell_type": "code",
   "execution_count": 10,
   "id": "8d5fafa5-3e99-4397-ad1a-84e912f0f4fc",
   "metadata": {
    "execution": {
     "iopub.execute_input": "2025-01-03T12:25:58.101851Z",
     "iopub.status.busy": "2025-01-03T12:25:58.101527Z",
     "iopub.status.idle": "2025-01-03T12:26:00.356581Z",
     "shell.execute_reply": "2025-01-03T12:26:00.356059Z",
     "shell.execute_reply.started": "2025-01-03T12:25:58.101831Z"
    }
   },
   "outputs": [
    {
     "name": "stderr",
     "output_type": "stream",
     "text": [
      "I0000 00:00:1735907158.295593    7350 gpu_device.cc:2022] Created device /job:localhost/replica:0/task:0/device:GPU:0 with 13942 MB memory:  -> device: 0, name: Tesla T4, pci bus id: 0000:00:1e.0, compute capability: 7.5\n"
     ]
    }
   ],
   "source": [
    "model = create_model()\n",
    "\n",
    "checkpoint = tf.keras.callbacks.ModelCheckpoint (\n",
    "    \"./checkpoints/traffic_sign_classification_resnet50_{epoch:02d}_{val_accuracy:.3f}.keras\",\n",
    "    save_best_only=True,\n",
    "    monitor=\"val_accuracy\"\n",
    ")\n",
    "\n",
    "model.compile(\n",
    "    optimizer=Adam(learning_rate=1e-4),\n",
    "    loss='categorical_crossentropy',\n",
    "    metrics=['accuracy']\n",
    ")\n",
    "\n"
   ]
  },
  {
   "cell_type": "code",
   "execution_count": 11,
   "id": "cc141a5d-351a-4613-a9c2-cce1772cb2bb",
   "metadata": {
    "execution": {
     "iopub.execute_input": "2025-01-03T12:26:03.873233Z",
     "iopub.status.busy": "2025-01-03T12:26:03.872906Z",
     "iopub.status.idle": "2025-01-03T12:29:19.182800Z",
     "shell.execute_reply": "2025-01-03T12:29:19.182257Z",
     "shell.execute_reply.started": "2025-01-03T12:26:03.873215Z"
    }
   },
   "outputs": [
    {
     "name": "stdout",
     "output_type": "stream",
     "text": [
      "Epoch 1/20\n"
     ]
    },
    {
     "name": "stderr",
     "output_type": "stream",
     "text": [
      "WARNING: All log messages before absl::InitializeLog() is called are written to STDERR\n",
      "I0000 00:00:1735907170.244325    7468 service.cc:148] XLA service 0x7fca780024c0 initialized for platform CUDA (this does not guarantee that XLA will be used). Devices:\n",
      "I0000 00:00:1735907170.244349    7468 service.cc:156]   StreamExecutor device (0): Tesla T4, Compute Capability 7.5\n",
      "2025-01-03 12:26:10.406356: I tensorflow/compiler/mlir/tensorflow/utils/dump_mlir_util.cc:268] disabling MLIR crash reproducer, set env var `MLIR_CRASH_REPRODUCER_DIRECTORY` to enable.\n",
      "I0000 00:00:1735907171.546340    7468 cuda_dnn.cc:529] Loaded cuDNN version 90300\n",
      "2025-01-03 12:26:12.172996: I external/local_xla/xla/service/gpu/autotuning/conv_algorithm_picker.cc:557] Omitted potentially buggy algorithm eng14{k25=0} for conv (f32[32,64,8,8]{3,2,1,0}, u8[0]{0}) custom-call(f32[32,64,8,8]{3,2,1,0}, f32[64,64,3,3]{3,2,1,0}, f32[64]{0}), window={size=3x3 pad=1_1x1_1}, dim_labels=bf01_oi01->bf01, custom_call_target=\"__cudnn$convBiasActivationForward\", backend_config={\"cudnn_conv_backend_config\":{\"activation_mode\":\"kNone\",\"conv_result_scale\":1,\"leakyrelu_alpha\":0,\"side_input_scale\":0},\"force_earliest_schedule\":false,\"operation_queue_id\":\"0\",\"wait_on_operation_queues\":[]}\n",
      "2025-01-03 12:26:12.286818: I external/local_xla/xla/service/gpu/autotuning/conv_algorithm_picker.cc:557] Omitted potentially buggy algorithm eng14{k25=0} for conv (f32[32,128,4,4]{3,2,1,0}, u8[0]{0}) custom-call(f32[32,128,4,4]{3,2,1,0}, f32[128,128,3,3]{3,2,1,0}, f32[128]{0}), window={size=3x3 pad=1_1x1_1}, dim_labels=bf01_oi01->bf01, custom_call_target=\"__cudnn$convBiasActivationForward\", backend_config={\"cudnn_conv_backend_config\":{\"activation_mode\":\"kNone\",\"conv_result_scale\":1,\"leakyrelu_alpha\":0,\"side_input_scale\":0},\"force_earliest_schedule\":false,\"operation_queue_id\":\"0\",\"wait_on_operation_queues\":[]}\n",
      "2025-01-03 12:26:13.353242: W external/local_xla/xla/service/gpu/nvptx_compiler.cc:930] The NVIDIA driver's CUDA version is 12.4 which is older than the PTX compiler version 12.5.82. Because the driver is older than the PTX compiler version, XLA is disabling parallel compilation, which may slow down compilation. You should update your NVIDIA driver or use the NVIDIA-provided CUDA forward compatibility packages.\n"
     ]
    },
    {
     "name": "stdout",
     "output_type": "stream",
     "text": [
      "\u001b[1m 24/981\u001b[0m \u001b[37m━━━━━━━━━━━━━━━━━━━━\u001b[0m \u001b[1m6s\u001b[0m 7ms/step - accuracy: 0.0267 - loss: 8.0971     "
     ]
    },
    {
     "name": "stderr",
     "output_type": "stream",
     "text": [
      "I0000 00:00:1735907174.551736    7468 device_compiler.h:188] Compiled cluster using XLA!  This line is logged at most once for the lifetime of the process.\n"
     ]
    },
    {
     "name": "stdout",
     "output_type": "stream",
     "text": [
      "\u001b[1m973/981\u001b[0m \u001b[32m━━━━━━━━━━━━━━━━━━━\u001b[0m\u001b[37m━\u001b[0m \u001b[1m0s\u001b[0m 7ms/step - accuracy: 0.1710 - loss: 3.9357"
     ]
    },
    {
     "name": "stderr",
     "output_type": "stream",
     "text": [
      "2025-01-03 12:26:22.625564: I external/local_xla/xla/service/gpu/autotuning/conv_algorithm_picker.cc:557] Omitted potentially buggy algorithm eng14{k25=0} for conv (f32[7,64,8,8]{3,2,1,0}, u8[0]{0}) custom-call(f32[7,64,8,8]{3,2,1,0}, f32[64,64,3,3]{3,2,1,0}, f32[64]{0}), window={size=3x3 pad=1_1x1_1}, dim_labels=bf01_oi01->bf01, custom_call_target=\"__cudnn$convBiasActivationForward\", backend_config={\"cudnn_conv_backend_config\":{\"activation_mode\":\"kNone\",\"conv_result_scale\":1,\"leakyrelu_alpha\":0,\"side_input_scale\":0},\"force_earliest_schedule\":false,\"operation_queue_id\":\"0\",\"wait_on_operation_queues\":[]}\n",
      "2025-01-03 12:26:22.725755: I external/local_xla/xla/service/gpu/autotuning/conv_algorithm_picker.cc:557] Omitted potentially buggy algorithm eng14{k25=0} for conv (f32[7,128,4,4]{3,2,1,0}, u8[0]{0}) custom-call(f32[7,128,4,4]{3,2,1,0}, f32[128,128,3,3]{3,2,1,0}, f32[128]{0}), window={size=3x3 pad=1_1x1_1}, dim_labels=bf01_oi01->bf01, custom_call_target=\"__cudnn$convBiasActivationForward\", backend_config={\"cudnn_conv_backend_config\":{\"activation_mode\":\"kNone\",\"conv_result_scale\":1,\"leakyrelu_alpha\":0,\"side_input_scale\":0},\"force_earliest_schedule\":false,\"operation_queue_id\":\"0\",\"wait_on_operation_queues\":[]}\n"
     ]
    },
    {
     "name": "stdout",
     "output_type": "stream",
     "text": [
      "\u001b[1m981/981\u001b[0m \u001b[32m━━━━━━━━━━━━━━━━━━━━\u001b[0m\u001b[37m\u001b[0m \u001b[1m0s\u001b[0m 10ms/step - accuracy: 0.1716 - loss: 3.9279"
     ]
    },
    {
     "name": "stderr",
     "output_type": "stream",
     "text": [
      "2025-01-03 12:26:30.582337: I external/local_xla/xla/service/gpu/autotuning/conv_algorithm_picker.cc:557] Omitted potentially buggy algorithm eng14{k25=0} for conv (f32[2,64,8,8]{3,2,1,0}, u8[0]{0}) custom-call(f32[2,64,8,8]{3,2,1,0}, f32[64,64,3,3]{3,2,1,0}, f32[64]{0}), window={size=3x3 pad=1_1x1_1}, dim_labels=bf01_oi01->bf01, custom_call_target=\"__cudnn$convBiasActivationForward\", backend_config={\"cudnn_conv_backend_config\":{\"activation_mode\":\"kNone\",\"conv_result_scale\":1,\"leakyrelu_alpha\":0,\"side_input_scale\":0},\"force_earliest_schedule\":false,\"operation_queue_id\":\"0\",\"wait_on_operation_queues\":[]}\n",
      "2025-01-03 12:26:30.641145: I external/local_xla/xla/service/gpu/autotuning/conv_algorithm_picker.cc:557] Omitted potentially buggy algorithm eng14{k25=0} for conv (f32[2,128,4,4]{3,2,1,0}, u8[0]{0}) custom-call(f32[2,128,4,4]{3,2,1,0}, f32[128,128,3,3]{3,2,1,0}, f32[128]{0}), window={size=3x3 pad=1_1x1_1}, dim_labels=bf01_oi01->bf01, custom_call_target=\"__cudnn$convBiasActivationForward\", backend_config={\"cudnn_conv_backend_config\":{\"activation_mode\":\"kNone\",\"conv_result_scale\":1,\"leakyrelu_alpha\":0,\"side_input_scale\":0},\"force_earliest_schedule\":false,\"operation_queue_id\":\"0\",\"wait_on_operation_queues\":[]}\n"
     ]
    },
    {
     "name": "stdout",
     "output_type": "stream",
     "text": [
      "\u001b[1m981/981\u001b[0m \u001b[32m━━━━━━━━━━━━━━━━━━━━\u001b[0m\u001b[37m\u001b[0m \u001b[1m28s\u001b[0m 18ms/step - accuracy: 0.1717 - loss: 3.9269 - val_accuracy: 0.4745 - val_loss: 1.8310\n",
      "Epoch 2/20\n",
      "\u001b[1m981/981\u001b[0m \u001b[32m━━━━━━━━━━━━━━━━━━━━\u001b[0m\u001b[37m\u001b[0m \u001b[1m9s\u001b[0m 9ms/step - accuracy: 0.3968 - loss: 2.0485 - val_accuracy: 0.5738 - val_loss: 1.4056\n",
      "Epoch 3/20\n",
      "\u001b[1m981/981\u001b[0m \u001b[32m━━━━━━━━━━━━━━━━━━━━\u001b[0m\u001b[37m\u001b[0m \u001b[1m9s\u001b[0m 9ms/step - accuracy: 0.4873 - loss: 1.6484 - val_accuracy: 0.6421 - val_loss: 1.1723\n",
      "Epoch 4/20\n",
      "\u001b[1m981/981\u001b[0m \u001b[32m━━━━━━━━━━━━━━━━━━━━\u001b[0m\u001b[37m\u001b[0m \u001b[1m9s\u001b[0m 9ms/step - accuracy: 0.5525 - loss: 1.4032 - val_accuracy: 0.6947 - val_loss: 0.9938\n",
      "Epoch 5/20\n",
      "\u001b[1m981/981\u001b[0m \u001b[32m━━━━━━━━━━━━━━━━━━━━\u001b[0m\u001b[37m\u001b[0m \u001b[1m9s\u001b[0m 9ms/step - accuracy: 0.6038 - loss: 1.2265 - val_accuracy: 0.7269 - val_loss: 0.8886\n",
      "Epoch 6/20\n",
      "\u001b[1m981/981\u001b[0m \u001b[32m━━━━━━━━━━━━━━━━━━━━\u001b[0m\u001b[37m\u001b[0m \u001b[1m9s\u001b[0m 9ms/step - accuracy: 0.6423 - loss: 1.0905 - val_accuracy: 0.7585 - val_loss: 0.7842\n",
      "Epoch 7/20\n",
      "\u001b[1m981/981\u001b[0m \u001b[32m━━━━━━━━━━━━━━━━━━━━\u001b[0m\u001b[37m\u001b[0m \u001b[1m9s\u001b[0m 9ms/step - accuracy: 0.6882 - loss: 0.9629 - val_accuracy: 0.7784 - val_loss: 0.7000\n",
      "Epoch 8/20\n",
      "\u001b[1m981/981\u001b[0m \u001b[32m━━━━━━━━━━━━━━━━━━━━\u001b[0m\u001b[37m\u001b[0m \u001b[1m9s\u001b[0m 9ms/step - accuracy: 0.7174 - loss: 0.8612 - val_accuracy: 0.7997 - val_loss: 0.6410\n",
      "Epoch 9/20\n",
      "\u001b[1m981/981\u001b[0m \u001b[32m━━━━━━━━━━━━━━━━━━━━\u001b[0m\u001b[37m\u001b[0m \u001b[1m9s\u001b[0m 9ms/step - accuracy: 0.7405 - loss: 0.7826 - val_accuracy: 0.8085 - val_loss: 0.6035\n",
      "Epoch 10/20\n",
      "\u001b[1m981/981\u001b[0m \u001b[32m━━━━━━━━━━━━━━━━━━━━\u001b[0m\u001b[37m\u001b[0m \u001b[1m9s\u001b[0m 9ms/step - accuracy: 0.7638 - loss: 0.7167 - val_accuracy: 0.8307 - val_loss: 0.5429\n",
      "Epoch 11/20\n",
      "\u001b[1m981/981\u001b[0m \u001b[32m━━━━━━━━━━━━━━━━━━━━\u001b[0m\u001b[37m\u001b[0m \u001b[1m9s\u001b[0m 9ms/step - accuracy: 0.7842 - loss: 0.6532 - val_accuracy: 0.8402 - val_loss: 0.5131\n",
      "Epoch 12/20\n",
      "\u001b[1m981/981\u001b[0m \u001b[32m━━━━━━━━━━━━━━━━━━━━\u001b[0m\u001b[37m\u001b[0m \u001b[1m9s\u001b[0m 9ms/step - accuracy: 0.8049 - loss: 0.5869 - val_accuracy: 0.8471 - val_loss: 0.4827\n",
      "Epoch 13/20\n",
      "\u001b[1m981/981\u001b[0m \u001b[32m━━━━━━━━━━━━━━━━━━━━\u001b[0m\u001b[37m\u001b[0m \u001b[1m9s\u001b[0m 9ms/step - accuracy: 0.8110 - loss: 0.5551 - val_accuracy: 0.8586 - val_loss: 0.4530\n",
      "Epoch 14/20\n",
      "\u001b[1m981/981\u001b[0m \u001b[32m━━━━━━━━━━━━━━━━━━━━\u001b[0m\u001b[37m\u001b[0m \u001b[1m9s\u001b[0m 9ms/step - accuracy: 0.8284 - loss: 0.5056 - val_accuracy: 0.8616 - val_loss: 0.4423\n",
      "Epoch 15/20\n",
      "\u001b[1m981/981\u001b[0m \u001b[32m━━━━━━━━━━━━━━━━━━━━\u001b[0m\u001b[37m\u001b[0m \u001b[1m9s\u001b[0m 9ms/step - accuracy: 0.8430 - loss: 0.4700 - val_accuracy: 0.8675 - val_loss: 0.4203\n",
      "Epoch 16/20\n",
      "\u001b[1m981/981\u001b[0m \u001b[32m━━━━━━━━━━━━━━━━━━━━\u001b[0m\u001b[37m\u001b[0m \u001b[1m9s\u001b[0m 9ms/step - accuracy: 0.8531 - loss: 0.4429 - val_accuracy: 0.8718 - val_loss: 0.3989\n",
      "Epoch 17/20\n",
      "\u001b[1m981/981\u001b[0m \u001b[32m━━━━━━━━━━━━━━━━━━━━\u001b[0m\u001b[37m\u001b[0m \u001b[1m9s\u001b[0m 9ms/step - accuracy: 0.8656 - loss: 0.4103 - val_accuracy: 0.8773 - val_loss: 0.3835\n",
      "Epoch 18/20\n",
      "\u001b[1m981/981\u001b[0m \u001b[32m━━━━━━━━━━━━━━━━━━━━\u001b[0m\u001b[37m\u001b[0m \u001b[1m9s\u001b[0m 9ms/step - accuracy: 0.8710 - loss: 0.3798 - val_accuracy: 0.8805 - val_loss: 0.3761\n",
      "Epoch 19/20\n",
      "\u001b[1m981/981\u001b[0m \u001b[32m━━━━━━━━━━━━━━━━━━━━\u001b[0m\u001b[37m\u001b[0m \u001b[1m9s\u001b[0m 9ms/step - accuracy: 0.8810 - loss: 0.3621 - val_accuracy: 0.8828 - val_loss: 0.3689\n",
      "Epoch 20/20\n",
      "\u001b[1m981/981\u001b[0m \u001b[32m━━━━━━━━━━━━━━━━━━━━\u001b[0m\u001b[37m\u001b[0m \u001b[1m9s\u001b[0m 9ms/step - accuracy: 0.8862 - loss: 0.3398 - val_accuracy: 0.8832 - val_loss: 0.3590\n"
     ]
    }
   ],
   "source": [
    "history = model.fit(X_train,y_train,\n",
    "                    validation_data=(X_val, y_val),\n",
    "                    epochs=20, batch_size=32, \n",
    "                    callbacks=[checkpoint])"
   ]
  },
  {
   "cell_type": "code",
   "execution_count": null,
   "id": "1042f8fd-8676-4f29-b4a5-5e5b62793c86",
   "metadata": {},
   "outputs": [],
   "source": []
  }
 ],
 "metadata": {
  "kernelspec": {
   "display_name": "saturn (Python 3)",
   "language": "python",
   "name": "python3"
  },
  "language_info": {
   "codemirror_mode": {
    "name": "ipython",
    "version": 3
   },
   "file_extension": ".py",
   "mimetype": "text/x-python",
   "name": "python",
   "nbconvert_exporter": "python",
   "pygments_lexer": "ipython3",
   "version": "3.12.7"
  }
 },
 "nbformat": 4,
 "nbformat_minor": 5
}
