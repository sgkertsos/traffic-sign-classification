{
 "cells": [
  {
   "cell_type": "code",
   "execution_count": 61,
   "id": "44de2f4c-1082-4953-a0a7-6f9d65eb1dbe",
   "metadata": {},
   "outputs": [],
   "source": [
    "import tensorflow as tf\n",
    "from tensorflow import keras\n",
    "from tensorflow.keras import layers, models\n",
    "from tensorflow.keras.models import Model\n",
    "from tensorflow.keras.preprocessing.image import ImageDataGenerator\n",
    "from tensorflow.keras.applications import ResNet50"
   ]
  },
  {
   "cell_type": "code",
   "execution_count": 93,
   "id": "b24d4e63-167e-4b82-8ff4-d9f7f16a51a1",
   "metadata": {},
   "outputs": [],
   "source": [
    "gen = ImageDataGenerator(\n",
    "    validation_split=0.2\n",
    ")"
   ]
  },
  {
   "cell_type": "code",
   "execution_count": 94,
   "id": "2e2a1869-d5e4-4aea-ace0-1f03a98b42fa",
   "metadata": {},
   "outputs": [
    {
     "name": "stdout",
     "output_type": "stream",
     "text": [
      "Found 31368 images belonging to 43 classes.\n"
     ]
    }
   ],
   "source": [
    "train_data = gen.flow_from_directory(\n",
    "    './data/train-r',  \n",
    "    target_size=(32, 32),\n",
    "    batch_size=32,\n",
    "    subset='training',\n",
    "    class_mode='categorical'\n",
    ")"
   ]
  },
  {
   "cell_type": "code",
   "execution_count": 95,
   "id": "de33107f-776c-4341-9f92-795d999ea798",
   "metadata": {},
   "outputs": [
    {
     "name": "stdout",
     "output_type": "stream",
     "text": [
      "Found 7841 images belonging to 43 classes.\n"
     ]
    }
   ],
   "source": [
    "val_data = gen.flow_from_directory(\n",
    "    './data/train-r',\n",
    "    target_size=(32, 32),\n",
    "    batch_size=32, \n",
    "    subset='validation',\n",
    "    class_mode='categorical'\n",
    ")"
   ]
  },
  {
   "cell_type": "code",
   "execution_count": 96,
   "id": "e390e7e6-778e-450e-822e-e531465ea1f9",
   "metadata": {},
   "outputs": [],
   "source": [
    "base_model = ResNet50(\n",
    "    weights='imagenet',\n",
    "    include_top=False,\n",
    "    input_shape=(32, 32, 3)\n",
    ")"
   ]
  },
  {
   "cell_type": "code",
   "execution_count": 97,
   "id": "6257e3fa-bf9a-4e5f-8ae2-859e34bf3a1d",
   "metadata": {},
   "outputs": [],
   "source": [
    "base_model.trainable = False"
   ]
  },
  {
   "cell_type": "code",
   "execution_count": 98,
   "id": "673a7229-6454-4667-a6b5-c0c57f717cc2",
   "metadata": {},
   "outputs": [],
   "source": [
    "for layer in base_model.layers[:-8]:\n",
    "    layer.trainable = False"
   ]
  },
  {
   "cell_type": "code",
   "execution_count": 99,
   "id": "42f58af2-69fd-44c4-99eb-73414e03c10f",
   "metadata": {},
   "outputs": [],
   "source": [
    "def make_model(learning_rate, droprate):\n",
    "    x = base_model.output\n",
    "    x = keras.layers.GlobalAveragePooling2D()(x)\n",
    "    x = keras.layers.Dropout(rate=0.5)(x)\n",
    "    x = keras.layers.Dense(128, activation='relu')(x)\n",
    "    x = keras.layers.Dropout(rate=0.5)(x)\n",
    "    predictions = keras.layers.Dense(43, activation='softmax')(x)\n",
    "\n",
    "    model = Model(inputs=base_model.input, outputs=predictions)\n",
    "\n",
    "    optimizer = keras.optimizers.Adam()\n",
    "    \n",
    "    loss = keras.losses.CategoricalCrossentropy()\n",
    "    \n",
    "    # Compile model\n",
    "    model.compile(\n",
    "        optimizer=optimizer,\n",
    "        loss=loss,\n",
    "        metrics=['accuracy']\n",
    "    )\n",
    "\n",
    "    \n",
    "    return model"
   ]
  },
  {
   "cell_type": "code",
   "execution_count": 100,
   "id": "f3bc2de5-5c60-41cc-8125-4c03e5dd354e",
   "metadata": {},
   "outputs": [],
   "source": [
    "checkpoint = keras.callbacks.ModelCheckpoint (\n",
    "    \"./checkpoints/traffic_sign_classification_resnet_{epoch:02d}_{val_accuracy:.3f}.keras\",\n",
    "    save_best_only=True,\n",
    "    monitor=\"val_accuracy\"\n",
    ")"
   ]
  },
  {
   "cell_type": "code",
   "execution_count": 101,
   "id": "180415ff-3557-40c7-a217-6db18a335f60",
   "metadata": {},
   "outputs": [],
   "source": [
    "model = make_model(learning_rate=0.0001, droprate=0.8)"
   ]
  },
  {
   "cell_type": "code",
   "execution_count": 102,
   "id": "cb392332-ea07-42ce-bfb8-a9f17ef0598c",
   "metadata": {},
   "outputs": [
    {
     "name": "stdout",
     "output_type": "stream",
     "text": [
      "Epoch 1/100\n",
      "\u001b[1m981/981\u001b[0m \u001b[32m━━━━━━━━━━━━━━━━━━━━\u001b[0m\u001b[37m\u001b[0m \u001b[1m31s\u001b[0m 22ms/step - accuracy: 0.1672 - loss: 3.6325 - val_accuracy: 0.3437 - val_loss: 2.1378\n",
      "Epoch 2/100\n",
      "\u001b[1m981/981\u001b[0m \u001b[32m━━━━━━━━━━━━━━━━━━━━\u001b[0m\u001b[37m\u001b[0m \u001b[1m13s\u001b[0m 13ms/step - accuracy: 0.3210 - loss: 2.1954 - val_accuracy: 0.3577 - val_loss: 2.0557\n",
      "Epoch 3/100\n",
      "\u001b[1m981/981\u001b[0m \u001b[32m━━━━━━━━━━━━━━━━━━━━\u001b[0m\u001b[37m\u001b[0m \u001b[1m13s\u001b[0m 13ms/step - accuracy: 0.3737 - loss: 1.9589 - val_accuracy: 0.3747 - val_loss: 1.9722\n",
      "Epoch 4/100\n",
      "\u001b[1m981/981\u001b[0m \u001b[32m━━━━━━━━━━━━━━━━━━━━\u001b[0m\u001b[37m\u001b[0m \u001b[1m12s\u001b[0m 13ms/step - accuracy: 0.4000 - loss: 1.8651 - val_accuracy: 0.3614 - val_loss: 2.0041\n",
      "Epoch 5/100\n",
      "\u001b[1m981/981\u001b[0m \u001b[32m━━━━━━━━━━━━━━━━━━━━\u001b[0m\u001b[37m\u001b[0m \u001b[1m12s\u001b[0m 12ms/step - accuracy: 0.4241 - loss: 1.7867 - val_accuracy: 0.3718 - val_loss: 1.9742\n",
      "Epoch 6/100\n",
      "\u001b[1m981/981\u001b[0m \u001b[32m━━━━━━━━━━━━━━━━━━━━\u001b[0m\u001b[37m\u001b[0m \u001b[1m12s\u001b[0m 12ms/step - accuracy: 0.4395 - loss: 1.7374 - val_accuracy: 0.3670 - val_loss: 1.9929\n",
      "Epoch 7/100\n",
      "\u001b[1m981/981\u001b[0m \u001b[32m━━━━━━━━━━━━━━━━━━━━\u001b[0m\u001b[37m\u001b[0m \u001b[1m13s\u001b[0m 13ms/step - accuracy: 0.4448 - loss: 1.6894 - val_accuracy: 0.3809 - val_loss: 1.9877\n",
      "Epoch 8/100\n",
      "\u001b[1m981/981\u001b[0m \u001b[32m━━━━━━━━━━━━━━━━━━━━\u001b[0m\u001b[37m\u001b[0m \u001b[1m13s\u001b[0m 13ms/step - accuracy: 0.4498 - loss: 1.6715 - val_accuracy: 0.4035 - val_loss: 1.9902\n",
      "Epoch 9/100\n",
      "\u001b[1m981/981\u001b[0m \u001b[32m━━━━━━━━━━━━━━━━━━━━\u001b[0m\u001b[37m\u001b[0m \u001b[1m13s\u001b[0m 13ms/step - accuracy: 0.4656 - loss: 1.6445 - val_accuracy: 0.4096 - val_loss: 1.9287\n",
      "Epoch 10/100\n",
      "\u001b[1m981/981\u001b[0m \u001b[32m━━━━━━━━━━━━━━━━━━━━\u001b[0m\u001b[37m\u001b[0m \u001b[1m12s\u001b[0m 12ms/step - accuracy: 0.4721 - loss: 1.6144 - val_accuracy: 0.3938 - val_loss: 2.0017\n",
      "Epoch 11/100\n",
      "\u001b[1m981/981\u001b[0m \u001b[32m━━━━━━━━━━━━━━━━━━━━\u001b[0m\u001b[37m\u001b[0m \u001b[1m12s\u001b[0m 12ms/step - accuracy: 0.4739 - loss: 1.5958 - val_accuracy: 0.4006 - val_loss: 1.9818\n",
      "Epoch 12/100\n",
      "\u001b[1m981/981\u001b[0m \u001b[32m━━━━━━━━━━━━━━━━━━━━\u001b[0m\u001b[37m\u001b[0m \u001b[1m13s\u001b[0m 13ms/step - accuracy: 0.4824 - loss: 1.5846 - val_accuracy: 0.4099 - val_loss: 1.9565\n",
      "Epoch 13/100\n",
      "\u001b[1m981/981\u001b[0m \u001b[32m━━━━━━━━━━━━━━━━━━━━\u001b[0m\u001b[37m\u001b[0m \u001b[1m12s\u001b[0m 12ms/step - accuracy: 0.4852 - loss: 1.5788 - val_accuracy: 0.4049 - val_loss: 2.0007\n",
      "Epoch 14/100\n",
      "\u001b[1m981/981\u001b[0m \u001b[32m━━━━━━━━━━━━━━━━━━━━\u001b[0m\u001b[37m\u001b[0m \u001b[1m12s\u001b[0m 12ms/step - accuracy: 0.4966 - loss: 1.5318 - val_accuracy: 0.4053 - val_loss: 2.0232\n",
      "Epoch 15/100\n",
      "\u001b[1m981/981\u001b[0m \u001b[32m━━━━━━━━━━━━━━━━━━━━\u001b[0m\u001b[37m\u001b[0m \u001b[1m12s\u001b[0m 12ms/step - accuracy: 0.5007 - loss: 1.5188 - val_accuracy: 0.4096 - val_loss: 1.9774\n",
      "Epoch 16/100\n",
      "\u001b[1m981/981\u001b[0m \u001b[32m━━━━━━━━━━━━━━━━━━━━\u001b[0m\u001b[37m\u001b[0m \u001b[1m13s\u001b[0m 13ms/step - accuracy: 0.4992 - loss: 1.5439 - val_accuracy: 0.4107 - val_loss: 2.0341\n",
      "Epoch 17/100\n",
      "\u001b[1m981/981\u001b[0m \u001b[32m━━━━━━━━━━━━━━━━━━━━\u001b[0m\u001b[37m\u001b[0m \u001b[1m12s\u001b[0m 13ms/step - accuracy: 0.4983 - loss: 1.5203 - val_accuracy: 0.3973 - val_loss: 2.0411\n",
      "Epoch 18/100\n",
      "\u001b[1m981/981\u001b[0m \u001b[32m━━━━━━━━━━━━━━━━━━━━\u001b[0m\u001b[37m\u001b[0m \u001b[1m12s\u001b[0m 13ms/step - accuracy: 0.5006 - loss: 1.5302 - val_accuracy: 0.3913 - val_loss: 2.0353\n",
      "Epoch 19/100\n",
      "\u001b[1m981/981\u001b[0m \u001b[32m━━━━━━━━━━━━━━━━━━━━\u001b[0m\u001b[37m\u001b[0m \u001b[1m12s\u001b[0m 13ms/step - accuracy: 0.5104 - loss: 1.4860 - val_accuracy: 0.3809 - val_loss: 2.0737\n",
      "Epoch 20/100\n",
      "\u001b[1m981/981\u001b[0m \u001b[32m━━━━━━━━━━━━━━━━━━━━\u001b[0m\u001b[37m\u001b[0m \u001b[1m12s\u001b[0m 13ms/step - accuracy: 0.5074 - loss: 1.5016 - val_accuracy: 0.4062 - val_loss: 2.0431\n",
      "Epoch 21/100\n",
      "\u001b[1m981/981\u001b[0m \u001b[32m━━━━━━━━━━━━━━━━━━━━\u001b[0m\u001b[37m\u001b[0m \u001b[1m12s\u001b[0m 12ms/step - accuracy: 0.5123 - loss: 1.4853 - val_accuracy: 0.4105 - val_loss: 2.0233\n",
      "Epoch 22/100\n",
      "\u001b[1m981/981\u001b[0m \u001b[32m━━━━━━━━━━━━━━━━━━━━\u001b[0m\u001b[37m\u001b[0m \u001b[1m12s\u001b[0m 13ms/step - accuracy: 0.5230 - loss: 1.4637 - val_accuracy: 0.3956 - val_loss: 2.0872\n",
      "Epoch 23/100\n",
      "\u001b[1m981/981\u001b[0m \u001b[32m━━━━━━━━━━━━━━━━━━━━\u001b[0m\u001b[37m\u001b[0m \u001b[1m12s\u001b[0m 13ms/step - accuracy: 0.5194 - loss: 1.4680 - val_accuracy: 0.4038 - val_loss: 2.0343\n",
      "Epoch 24/100\n",
      "\u001b[1m981/981\u001b[0m \u001b[32m━━━━━━━━━━━━━━━━━━━━\u001b[0m\u001b[37m\u001b[0m \u001b[1m16s\u001b[0m 17ms/step - accuracy: 0.5251 - loss: 1.4622 - val_accuracy: 0.4001 - val_loss: 2.0478\n",
      "Epoch 25/100\n",
      "\u001b[1m981/981\u001b[0m \u001b[32m━━━━━━━━━━━━━━━━━━━━\u001b[0m\u001b[37m\u001b[0m \u001b[1m12s\u001b[0m 12ms/step - accuracy: 0.5222 - loss: 1.4495 - val_accuracy: 0.4107 - val_loss: 1.9870\n",
      "Epoch 26/100\n",
      "\u001b[1m981/981\u001b[0m \u001b[32m━━━━━━━━━━━━━━━━━━━━\u001b[0m\u001b[37m\u001b[0m \u001b[1m12s\u001b[0m 12ms/step - accuracy: 0.5239 - loss: 1.4468 - val_accuracy: 0.4100 - val_loss: 2.0380\n",
      "Epoch 27/100\n",
      "\u001b[1m981/981\u001b[0m \u001b[32m━━━━━━━━━━━━━━━━━━━━\u001b[0m\u001b[37m\u001b[0m \u001b[1m12s\u001b[0m 12ms/step - accuracy: 0.5229 - loss: 1.4650 - val_accuracy: 0.3900 - val_loss: 2.0484\n",
      "Epoch 28/100\n",
      "\u001b[1m981/981\u001b[0m \u001b[32m━━━━━━━━━━━━━━━━━━━━\u001b[0m\u001b[37m\u001b[0m \u001b[1m12s\u001b[0m 12ms/step - accuracy: 0.5246 - loss: 1.4543 - val_accuracy: 0.4087 - val_loss: 2.0470\n",
      "Epoch 29/100\n",
      "\u001b[1m981/981\u001b[0m \u001b[32m━━━━━━━━━━━━━━━━━━━━\u001b[0m\u001b[37m\u001b[0m \u001b[1m12s\u001b[0m 12ms/step - accuracy: 0.5281 - loss: 1.4461 - val_accuracy: 0.4015 - val_loss: 2.0855\n",
      "Epoch 30/100\n",
      "\u001b[1m981/981\u001b[0m \u001b[32m━━━━━━━━━━━━━━━━━━━━\u001b[0m\u001b[37m\u001b[0m \u001b[1m12s\u001b[0m 12ms/step - accuracy: 0.5295 - loss: 1.4472 - val_accuracy: 0.4014 - val_loss: 2.1145\n",
      "Epoch 31/100\n",
      "\u001b[1m981/981\u001b[0m \u001b[32m━━━━━━━━━━━━━━━━━━━━\u001b[0m\u001b[37m\u001b[0m \u001b[1m12s\u001b[0m 12ms/step - accuracy: 0.5274 - loss: 1.4409 - val_accuracy: 0.4145 - val_loss: 2.0441\n",
      "Epoch 32/100\n",
      "\u001b[1m981/981\u001b[0m \u001b[32m━━━━━━━━━━━━━━━━━━━━\u001b[0m\u001b[37m\u001b[0m \u001b[1m12s\u001b[0m 12ms/step - accuracy: 0.5348 - loss: 1.4406 - val_accuracy: 0.4109 - val_loss: 2.0549\n",
      "Epoch 33/100\n",
      "\u001b[1m981/981\u001b[0m \u001b[32m━━━━━━━━━━━━━━━━━━━━\u001b[0m\u001b[37m\u001b[0m \u001b[1m12s\u001b[0m 12ms/step - accuracy: 0.5324 - loss: 1.4226 - val_accuracy: 0.4022 - val_loss: 2.0938\n",
      "Epoch 34/100\n",
      "\u001b[1m981/981\u001b[0m \u001b[32m━━━━━━━━━━━━━━━━━━━━\u001b[0m\u001b[37m\u001b[0m \u001b[1m12s\u001b[0m 12ms/step - accuracy: 0.5322 - loss: 1.4326 - val_accuracy: 0.4065 - val_loss: 2.1265\n",
      "Epoch 35/100\n",
      "\u001b[1m981/981\u001b[0m \u001b[32m━━━━━━━━━━━━━━━━━━━━\u001b[0m\u001b[37m\u001b[0m \u001b[1m12s\u001b[0m 12ms/step - accuracy: 0.5393 - loss: 1.3980 - val_accuracy: 0.4093 - val_loss: 2.0959\n",
      "Epoch 36/100\n",
      "\u001b[1m981/981\u001b[0m \u001b[32m━━━━━━━━━━━━━━━━━━━━\u001b[0m\u001b[37m\u001b[0m \u001b[1m12s\u001b[0m 12ms/step - accuracy: 0.5375 - loss: 1.4282 - val_accuracy: 0.4098 - val_loss: 2.1459\n",
      "Epoch 37/100\n",
      "\u001b[1m981/981\u001b[0m \u001b[32m━━━━━━━━━━━━━━━━━━━━\u001b[0m\u001b[37m\u001b[0m \u001b[1m12s\u001b[0m 12ms/step - accuracy: 0.5371 - loss: 1.4292 - val_accuracy: 0.3970 - val_loss: 2.1393\n",
      "Epoch 38/100\n",
      "\u001b[1m981/981\u001b[0m \u001b[32m━━━━━━━━━━━━━━━━━━━━\u001b[0m\u001b[37m\u001b[0m \u001b[1m12s\u001b[0m 12ms/step - accuracy: 0.5367 - loss: 1.4184 - val_accuracy: 0.4130 - val_loss: 2.1065\n",
      "Epoch 39/100\n",
      "\u001b[1m981/981\u001b[0m \u001b[32m━━━━━━━━━━━━━━━━━━━━\u001b[0m\u001b[37m\u001b[0m \u001b[1m12s\u001b[0m 12ms/step - accuracy: 0.5367 - loss: 1.4252 - val_accuracy: 0.4065 - val_loss: 2.1391\n",
      "Epoch 40/100\n",
      "\u001b[1m981/981\u001b[0m \u001b[32m━━━━━━━━━━━━━━━━━━━━\u001b[0m\u001b[37m\u001b[0m \u001b[1m12s\u001b[0m 12ms/step - accuracy: 0.5381 - loss: 1.4175 - val_accuracy: 0.4122 - val_loss: 2.1623\n",
      "Epoch 41/100\n",
      "\u001b[1m981/981\u001b[0m \u001b[32m━━━━━━━━━━━━━━━━━━━━\u001b[0m\u001b[37m\u001b[0m \u001b[1m12s\u001b[0m 12ms/step - accuracy: 0.5448 - loss: 1.4111 - val_accuracy: 0.3973 - val_loss: 2.1085\n",
      "Epoch 42/100\n",
      "\u001b[1m981/981\u001b[0m \u001b[32m━━━━━━━━━━━━━━━━━━━━\u001b[0m\u001b[37m\u001b[0m \u001b[1m12s\u001b[0m 12ms/step - accuracy: 0.5509 - loss: 1.3937 - val_accuracy: 0.4048 - val_loss: 2.1007\n",
      "Epoch 43/100\n",
      "\u001b[1m981/981\u001b[0m \u001b[32m━━━━━━━━━━━━━━━━━━━━\u001b[0m\u001b[37m\u001b[0m \u001b[1m12s\u001b[0m 12ms/step - accuracy: 0.5421 - loss: 1.4184 - val_accuracy: 0.3984 - val_loss: 2.1263\n",
      "Epoch 44/100\n",
      "\u001b[1m981/981\u001b[0m \u001b[32m━━━━━━━━━━━━━━━━━━━━\u001b[0m\u001b[37m\u001b[0m \u001b[1m12s\u001b[0m 12ms/step - accuracy: 0.5417 - loss: 1.3946 - val_accuracy: 0.4079 - val_loss: 2.1072\n",
      "Epoch 45/100\n",
      "\u001b[1m981/981\u001b[0m \u001b[32m━━━━━━━━━━━━━━━━━━━━\u001b[0m\u001b[37m\u001b[0m \u001b[1m12s\u001b[0m 12ms/step - accuracy: 0.5415 - loss: 1.4221 - val_accuracy: 0.4021 - val_loss: 2.1568\n",
      "Epoch 46/100\n",
      "\u001b[1m981/981\u001b[0m \u001b[32m━━━━━━━━━━━━━━━━━━━━\u001b[0m\u001b[37m\u001b[0m \u001b[1m12s\u001b[0m 12ms/step - accuracy: 0.5512 - loss: 1.3999 - val_accuracy: 0.4003 - val_loss: 2.1413\n",
      "Epoch 47/100\n",
      "\u001b[1m981/981\u001b[0m \u001b[32m━━━━━━━━━━━━━━━━━━━━\u001b[0m\u001b[37m\u001b[0m \u001b[1m12s\u001b[0m 12ms/step - accuracy: 0.5491 - loss: 1.3951 - val_accuracy: 0.3942 - val_loss: 2.1325\n",
      "Epoch 48/100\n",
      "\u001b[1m981/981\u001b[0m \u001b[32m━━━━━━━━━━━━━━━━━━━━\u001b[0m\u001b[37m\u001b[0m \u001b[1m12s\u001b[0m 12ms/step - accuracy: 0.5472 - loss: 1.4092 - val_accuracy: 0.4084 - val_loss: 2.1441\n",
      "Epoch 49/100\n",
      "\u001b[1m981/981\u001b[0m \u001b[32m━━━━━━━━━━━━━━━━━━━━\u001b[0m\u001b[37m\u001b[0m \u001b[1m12s\u001b[0m 12ms/step - accuracy: 0.5513 - loss: 1.3951 - val_accuracy: 0.4068 - val_loss: 2.0970\n",
      "Epoch 50/100\n",
      "\u001b[1m981/981\u001b[0m \u001b[32m━━━━━━━━━━━━━━━━━━━━\u001b[0m\u001b[37m\u001b[0m \u001b[1m12s\u001b[0m 13ms/step - accuracy: 0.5522 - loss: 1.4060 - val_accuracy: 0.4163 - val_loss: 2.1237\n",
      "Epoch 51/100\n",
      "\u001b[1m981/981\u001b[0m \u001b[32m━━━━━━━━━━━━━━━━━━━━\u001b[0m\u001b[37m\u001b[0m \u001b[1m12s\u001b[0m 12ms/step - accuracy: 0.5525 - loss: 1.3923 - val_accuracy: 0.4016 - val_loss: 2.1555\n",
      "Epoch 52/100\n",
      "\u001b[1m981/981\u001b[0m \u001b[32m━━━━━━━━━━━━━━━━━━━━\u001b[0m\u001b[37m\u001b[0m \u001b[1m12s\u001b[0m 12ms/step - accuracy: 0.5549 - loss: 1.3599 - val_accuracy: 0.3977 - val_loss: 2.1506\n",
      "Epoch 53/100\n",
      "\u001b[1m981/981\u001b[0m \u001b[32m━━━━━━━━━━━━━━━━━━━━\u001b[0m\u001b[37m\u001b[0m \u001b[1m12s\u001b[0m 12ms/step - accuracy: 0.5527 - loss: 1.4025 - val_accuracy: 0.4139 - val_loss: 2.1533\n",
      "Epoch 54/100\n",
      "\u001b[1m981/981\u001b[0m \u001b[32m━━━━━━━━━━━━━━━━━━━━\u001b[0m\u001b[37m\u001b[0m \u001b[1m12s\u001b[0m 12ms/step - accuracy: 0.5541 - loss: 1.3676 - val_accuracy: 0.4117 - val_loss: 2.1257\n",
      "Epoch 55/100\n",
      "\u001b[1m981/981\u001b[0m \u001b[32m━━━━━━━━━━━━━━━━━━━━\u001b[0m\u001b[37m\u001b[0m \u001b[1m12s\u001b[0m 12ms/step - accuracy: 0.5507 - loss: 1.3787 - val_accuracy: 0.4040 - val_loss: 2.1799\n",
      "Epoch 56/100\n",
      "\u001b[1m981/981\u001b[0m \u001b[32m━━━━━━━━━━━━━━━━━━━━\u001b[0m\u001b[37m\u001b[0m \u001b[1m12s\u001b[0m 12ms/step - accuracy: 0.5551 - loss: 1.3740 - val_accuracy: 0.4104 - val_loss: 2.1338\n",
      "Epoch 57/100\n",
      "\u001b[1m981/981\u001b[0m \u001b[32m━━━━━━━━━━━━━━━━━━━━\u001b[0m\u001b[37m\u001b[0m \u001b[1m12s\u001b[0m 12ms/step - accuracy: 0.5574 - loss: 1.3738 - val_accuracy: 0.3997 - val_loss: 2.1720\n",
      "Epoch 58/100\n",
      "\u001b[1m981/981\u001b[0m \u001b[32m━━━━━━━━━━━━━━━━━━━━\u001b[0m\u001b[37m\u001b[0m \u001b[1m12s\u001b[0m 12ms/step - accuracy: 0.5535 - loss: 1.3793 - val_accuracy: 0.3965 - val_loss: 2.2093\n",
      "Epoch 59/100\n",
      "\u001b[1m981/981\u001b[0m \u001b[32m━━━━━━━━━━━━━━━━━━━━\u001b[0m\u001b[37m\u001b[0m \u001b[1m12s\u001b[0m 12ms/step - accuracy: 0.5546 - loss: 1.3766 - val_accuracy: 0.4141 - val_loss: 2.2161\n",
      "Epoch 60/100\n",
      "\u001b[1m981/981\u001b[0m \u001b[32m━━━━━━━━━━━━━━━━━━━━\u001b[0m\u001b[37m\u001b[0m \u001b[1m12s\u001b[0m 12ms/step - accuracy: 0.5610 - loss: 1.3630 - val_accuracy: 0.3993 - val_loss: 2.1812\n",
      "Epoch 61/100\n",
      "\u001b[1m981/981\u001b[0m \u001b[32m━━━━━━━━━━━━━━━━━━━━\u001b[0m\u001b[37m\u001b[0m \u001b[1m12s\u001b[0m 12ms/step - accuracy: 0.5632 - loss: 1.3681 - val_accuracy: 0.4131 - val_loss: 2.0934\n",
      "Epoch 62/100\n",
      "\u001b[1m981/981\u001b[0m \u001b[32m━━━━━━━━━━━━━━━━━━━━\u001b[0m\u001b[37m\u001b[0m \u001b[1m12s\u001b[0m 12ms/step - accuracy: 0.5599 - loss: 1.3590 - val_accuracy: 0.4126 - val_loss: 2.1338\n",
      "Epoch 63/100\n",
      "\u001b[1m981/981\u001b[0m \u001b[32m━━━━━━━━━━━━━━━━━━━━\u001b[0m\u001b[37m\u001b[0m \u001b[1m12s\u001b[0m 12ms/step - accuracy: 0.5590 - loss: 1.3800 - val_accuracy: 0.4020 - val_loss: 2.1862\n",
      "Epoch 64/100\n",
      "\u001b[1m981/981\u001b[0m \u001b[32m━━━━━━━━━━━━━━━━━━━━\u001b[0m\u001b[37m\u001b[0m \u001b[1m12s\u001b[0m 12ms/step - accuracy: 0.5626 - loss: 1.3547 - val_accuracy: 0.4059 - val_loss: 2.1403\n",
      "Epoch 65/100\n",
      "\u001b[1m981/981\u001b[0m \u001b[32m━━━━━━━━━━━━━━━━━━━━\u001b[0m\u001b[37m\u001b[0m \u001b[1m12s\u001b[0m 12ms/step - accuracy: 0.5623 - loss: 1.3774 - val_accuracy: 0.4063 - val_loss: 2.1962\n",
      "Epoch 66/100\n",
      "\u001b[1m981/981\u001b[0m \u001b[32m━━━━━━━━━━━━━━━━━━━━\u001b[0m\u001b[37m\u001b[0m \u001b[1m12s\u001b[0m 12ms/step - accuracy: 0.5672 - loss: 1.3466 - val_accuracy: 0.4110 - val_loss: 2.2251\n",
      "Epoch 67/100\n",
      "\u001b[1m981/981\u001b[0m \u001b[32m━━━━━━━━━━━━━━━━━━━━\u001b[0m\u001b[37m\u001b[0m \u001b[1m12s\u001b[0m 12ms/step - accuracy: 0.5578 - loss: 1.3724 - val_accuracy: 0.4142 - val_loss: 2.1565\n",
      "Epoch 68/100\n",
      "\u001b[1m981/981\u001b[0m \u001b[32m━━━━━━━━━━━━━━━━━━━━\u001b[0m\u001b[37m\u001b[0m \u001b[1m12s\u001b[0m 12ms/step - accuracy: 0.5577 - loss: 1.3827 - val_accuracy: 0.4150 - val_loss: 2.1285\n",
      "Epoch 69/100\n",
      "\u001b[1m981/981\u001b[0m \u001b[32m━━━━━━━━━━━━━━━━━━━━\u001b[0m\u001b[37m\u001b[0m \u001b[1m12s\u001b[0m 12ms/step - accuracy: 0.5636 - loss: 1.3706 - val_accuracy: 0.4087 - val_loss: 2.2010\n",
      "Epoch 70/100\n",
      "\u001b[1m981/981\u001b[0m \u001b[32m━━━━━━━━━━━━━━━━━━━━\u001b[0m\u001b[37m\u001b[0m \u001b[1m12s\u001b[0m 12ms/step - accuracy: 0.5701 - loss: 1.3500 - val_accuracy: 0.4063 - val_loss: 2.1922\n",
      "Epoch 71/100\n",
      "\u001b[1m981/981\u001b[0m \u001b[32m━━━━━━━━━━━━━━━━━━━━\u001b[0m\u001b[37m\u001b[0m \u001b[1m12s\u001b[0m 12ms/step - accuracy: 0.5648 - loss: 1.3620 - val_accuracy: 0.4248 - val_loss: 2.2458\n",
      "Epoch 72/100\n",
      "\u001b[1m981/981\u001b[0m \u001b[32m━━━━━━━━━━━━━━━━━━━━\u001b[0m\u001b[37m\u001b[0m \u001b[1m12s\u001b[0m 12ms/step - accuracy: 0.5688 - loss: 1.3707 - val_accuracy: 0.4073 - val_loss: 2.2225\n",
      "Epoch 73/100\n",
      "\u001b[1m981/981\u001b[0m \u001b[32m━━━━━━━━━━━━━━━━━━━━\u001b[0m\u001b[37m\u001b[0m \u001b[1m12s\u001b[0m 12ms/step - accuracy: 0.5630 - loss: 1.3588 - val_accuracy: 0.4048 - val_loss: 2.1504\n",
      "Epoch 74/100\n",
      "\u001b[1m981/981\u001b[0m \u001b[32m━━━━━━━━━━━━━━━━━━━━\u001b[0m\u001b[37m\u001b[0m \u001b[1m12s\u001b[0m 12ms/step - accuracy: 0.5695 - loss: 1.3584 - val_accuracy: 0.4090 - val_loss: 2.1846\n",
      "Epoch 75/100\n",
      "\u001b[1m981/981\u001b[0m \u001b[32m━━━━━━━━━━━━━━━━━━━━\u001b[0m\u001b[37m\u001b[0m \u001b[1m12s\u001b[0m 12ms/step - accuracy: 0.5648 - loss: 1.3572 - val_accuracy: 0.4045 - val_loss: 2.2101\n",
      "Epoch 76/100\n",
      "\u001b[1m981/981\u001b[0m \u001b[32m━━━━━━━━━━━━━━━━━━━━\u001b[0m\u001b[37m\u001b[0m \u001b[1m12s\u001b[0m 12ms/step - accuracy: 0.5659 - loss: 1.3663 - val_accuracy: 0.4053 - val_loss: 2.2244\n",
      "Epoch 77/100\n",
      "\u001b[1m981/981\u001b[0m \u001b[32m━━━━━━━━━━━━━━━━━━━━\u001b[0m\u001b[37m\u001b[0m \u001b[1m12s\u001b[0m 12ms/step - accuracy: 0.5690 - loss: 1.3526 - val_accuracy: 0.4130 - val_loss: 2.2784\n",
      "Epoch 78/100\n",
      "\u001b[1m981/981\u001b[0m \u001b[32m━━━━━━━━━━━━━━━━━━━━\u001b[0m\u001b[37m\u001b[0m \u001b[1m12s\u001b[0m 12ms/step - accuracy: 0.5650 - loss: 1.3770 - val_accuracy: 0.4117 - val_loss: 2.1908\n",
      "Epoch 79/100\n",
      "\u001b[1m981/981\u001b[0m \u001b[32m━━━━━━━━━━━━━━━━━━━━\u001b[0m\u001b[37m\u001b[0m \u001b[1m12s\u001b[0m 12ms/step - accuracy: 0.5661 - loss: 1.3655 - val_accuracy: 0.4114 - val_loss: 2.2068\n",
      "Epoch 80/100\n",
      "\u001b[1m981/981\u001b[0m \u001b[32m━━━━━━━━━━━━━━━━━━━━\u001b[0m\u001b[37m\u001b[0m \u001b[1m12s\u001b[0m 12ms/step - accuracy: 0.5584 - loss: 1.3847 - val_accuracy: 0.4202 - val_loss: 2.1985\n",
      "Epoch 81/100\n",
      "\u001b[1m981/981\u001b[0m \u001b[32m━━━━━━━━━━━━━━━━━━━━\u001b[0m\u001b[37m\u001b[0m \u001b[1m12s\u001b[0m 12ms/step - accuracy: 0.5682 - loss: 1.3893 - val_accuracy: 0.4051 - val_loss: 2.2212\n",
      "Epoch 82/100\n",
      "\u001b[1m981/981\u001b[0m \u001b[32m━━━━━━━━━━━━━━━━━━━━\u001b[0m\u001b[37m\u001b[0m \u001b[1m12s\u001b[0m 12ms/step - accuracy: 0.5598 - loss: 1.3587 - val_accuracy: 0.4145 - val_loss: 2.2325\n",
      "Epoch 83/100\n",
      "\u001b[1m981/981\u001b[0m \u001b[32m━━━━━━━━━━━━━━━━━━━━\u001b[0m\u001b[37m\u001b[0m \u001b[1m12s\u001b[0m 12ms/step - accuracy: 0.5700 - loss: 1.3545 - val_accuracy: 0.4072 - val_loss: 2.1780\n",
      "Epoch 84/100\n",
      "\u001b[1m981/981\u001b[0m \u001b[32m━━━━━━━━━━━━━━━━━━━━\u001b[0m\u001b[37m\u001b[0m \u001b[1m12s\u001b[0m 12ms/step - accuracy: 0.5701 - loss: 1.3553 - val_accuracy: 0.4172 - val_loss: 2.2637\n",
      "Epoch 85/100\n",
      "\u001b[1m981/981\u001b[0m \u001b[32m━━━━━━━━━━━━━━━━━━━━\u001b[0m\u001b[37m\u001b[0m \u001b[1m12s\u001b[0m 12ms/step - accuracy: 0.5677 - loss: 1.3505 - val_accuracy: 0.4116 - val_loss: 2.2206\n",
      "Epoch 86/100\n",
      "\u001b[1m981/981\u001b[0m \u001b[32m━━━━━━━━━━━━━━━━━━━━\u001b[0m\u001b[37m\u001b[0m \u001b[1m12s\u001b[0m 12ms/step - accuracy: 0.5654 - loss: 1.3534 - val_accuracy: 0.4117 - val_loss: 2.1672\n",
      "Epoch 87/100\n",
      "\u001b[1m981/981\u001b[0m \u001b[32m━━━━━━━━━━━━━━━━━━━━\u001b[0m\u001b[37m\u001b[0m \u001b[1m12s\u001b[0m 12ms/step - accuracy: 0.5698 - loss: 1.3422 - val_accuracy: 0.4131 - val_loss: 2.1928\n",
      "Epoch 88/100\n",
      "\u001b[1m981/981\u001b[0m \u001b[32m━━━━━━━━━━━━━━━━━━━━\u001b[0m\u001b[37m\u001b[0m \u001b[1m12s\u001b[0m 12ms/step - accuracy: 0.5670 - loss: 1.3476 - val_accuracy: 0.4136 - val_loss: 2.1968\n",
      "Epoch 89/100\n",
      "\u001b[1m981/981\u001b[0m \u001b[32m━━━━━━━━━━━━━━━━━━━━\u001b[0m\u001b[37m\u001b[0m \u001b[1m12s\u001b[0m 12ms/step - accuracy: 0.5669 - loss: 1.3624 - val_accuracy: 0.4039 - val_loss: 2.1596\n",
      "Epoch 90/100\n",
      "\u001b[1m981/981\u001b[0m \u001b[32m━━━━━━━━━━━━━━━━━━━━\u001b[0m\u001b[37m\u001b[0m \u001b[1m12s\u001b[0m 12ms/step - accuracy: 0.5714 - loss: 1.3449 - val_accuracy: 0.4035 - val_loss: 2.2782\n",
      "Epoch 91/100\n",
      "\u001b[1m981/981\u001b[0m \u001b[32m━━━━━━━━━━━━━━━━━━━━\u001b[0m\u001b[37m\u001b[0m \u001b[1m12s\u001b[0m 12ms/step - accuracy: 0.5646 - loss: 1.3822 - val_accuracy: 0.4126 - val_loss: 2.2102\n",
      "Epoch 92/100\n",
      "\u001b[1m981/981\u001b[0m \u001b[32m━━━━━━━━━━━━━━━━━━━━\u001b[0m\u001b[37m\u001b[0m \u001b[1m12s\u001b[0m 12ms/step - accuracy: 0.5665 - loss: 1.3570 - val_accuracy: 0.4036 - val_loss: 2.2269\n",
      "Epoch 93/100\n",
      "\u001b[1m981/981\u001b[0m \u001b[32m━━━━━━━━━━━━━━━━━━━━\u001b[0m\u001b[37m\u001b[0m \u001b[1m12s\u001b[0m 12ms/step - accuracy: 0.5707 - loss: 1.3579 - val_accuracy: 0.4066 - val_loss: 2.3150\n",
      "Epoch 94/100\n",
      "\u001b[1m981/981\u001b[0m \u001b[32m━━━━━━━━━━━━━━━━━━━━\u001b[0m\u001b[37m\u001b[0m \u001b[1m12s\u001b[0m 12ms/step - accuracy: 0.5700 - loss: 1.3584 - val_accuracy: 0.4204 - val_loss: 2.2823\n",
      "Epoch 95/100\n",
      "\u001b[1m981/981\u001b[0m \u001b[32m━━━━━━━━━━━━━━━━━━━━\u001b[0m\u001b[37m\u001b[0m \u001b[1m12s\u001b[0m 12ms/step - accuracy: 0.5692 - loss: 1.3686 - val_accuracy: 0.4107 - val_loss: 2.1738\n",
      "Epoch 96/100\n",
      "\u001b[1m981/981\u001b[0m \u001b[32m━━━━━━━━━━━━━━━━━━━━\u001b[0m\u001b[37m\u001b[0m \u001b[1m12s\u001b[0m 12ms/step - accuracy: 0.5794 - loss: 1.3298 - val_accuracy: 0.4052 - val_loss: 2.2154\n",
      "Epoch 97/100\n",
      "\u001b[1m981/981\u001b[0m \u001b[32m━━━━━━━━━━━━━━━━━━━━\u001b[0m\u001b[37m\u001b[0m \u001b[1m12s\u001b[0m 12ms/step - accuracy: 0.5751 - loss: 1.3535 - val_accuracy: 0.3997 - val_loss: 2.1896\n",
      "Epoch 98/100\n",
      "\u001b[1m981/981\u001b[0m \u001b[32m━━━━━━━━━━━━━━━━━━━━\u001b[0m\u001b[37m\u001b[0m \u001b[1m12s\u001b[0m 12ms/step - accuracy: 0.5761 - loss: 1.3536 - val_accuracy: 0.4087 - val_loss: 2.2035\n",
      "Epoch 99/100\n",
      "\u001b[1m981/981\u001b[0m \u001b[32m━━━━━━━━━━━━━━━━━━━━\u001b[0m\u001b[37m\u001b[0m \u001b[1m12s\u001b[0m 12ms/step - accuracy: 0.5753 - loss: 1.3469 - val_accuracy: 0.4005 - val_loss: 2.2475\n",
      "Epoch 100/100\n",
      "\u001b[1m981/981\u001b[0m \u001b[32m━━━━━━━━━━━━━━━━━━━━\u001b[0m\u001b[37m\u001b[0m \u001b[1m12s\u001b[0m 12ms/step - accuracy: 0.5763 - loss: 1.3141 - val_accuracy: 0.4159 - val_loss: 2.2253\n"
     ]
    },
    {
     "data": {
      "text/plain": [
       "<keras.src.callbacks.history.History at 0x7e36271b6510>"
      ]
     },
     "execution_count": 102,
     "metadata": {},
     "output_type": "execute_result"
    }
   ],
   "source": [
    "model.fit(train_data, epochs=100, validation_data=val_data, callbacks=[checkpoint])"
   ]
  },
  {
   "cell_type": "code",
   "execution_count": 13,
   "id": "59bcd6ec-6605-42f4-a1b4-fc750563bcd6",
   "metadata": {},
   "outputs": [],
   "source": [
    "classes = [\n",
    "'Speed limit (20km/h)',\n",
    "'Speed limit (30km/h)',\n",
    "'Speed limit (50km/h)',\n",
    "'Speed limit (60km/h)',\n",
    "'Speed limit (70km/h)',\n",
    "'Speed limit (80km/h)',\n",
    "'End of speed limit (80km/h)',\n",
    "'Speed limit (100km/h)',\n",
    "'Speed limit (120km/h)',\n",
    "'No passing',\n",
    "'No passing for vehicles over 3.5 metric tons',\n",
    "'Right-of-way at the next intersection',\n",
    "'Priority road',\n",
    "'Yield',\n",
    "'Stop',\n",
    "'No vehicles',\n",
    "'Vehicles over 3.5 metric tons prohibited',\n",
    "'No entry',\n",
    "'General caution',\n",
    "'Dangerous curve to the left',\n",
    "'Dangerous curve to the right',\n",
    "'Double curve',\n",
    "'Bumpy road',\n",
    "'Slippery road',\n",
    "'Road narrows on the right',\n",
    "'Road work',\n",
    "'Traffic signals',\n",
    "'Pedestrians',\n",
    "'Children crossing',\n",
    "'Bicycles crossing',\n",
    "'Beware of ice/snow',\n",
    "'Wild animals crossing',\n",
    "'End of all speed and passing limits',\n",
    "'Turn right ahead',\n",
    "'Turn left ahead',\n",
    "'Ahead only',\n",
    "'Go straight or right',\n",
    "'Go straight or left',\n",
    "'Keep right',\n",
    "'Keep left',\n",
    "'Roundabout mandatory',\n",
    "'End of no passing',\n",
    "'End of no passing by vehicles over 3.5 metric'\n",
    "]"
   ]
  },
  {
   "cell_type": "code",
   "execution_count": 38,
   "id": "b808de56-f38c-4081-abcd-bcc5cf9c73ad",
   "metadata": {},
   "outputs": [],
   "source": [
    "from tensorflow import keras"
   ]
  },
  {
   "cell_type": "code",
   "execution_count": 39,
   "id": "b801ccc1-43fa-4619-88de-3d33e3201147",
   "metadata": {},
   "outputs": [],
   "source": [
    "model = keras.models.load_model('traffic_sign_classification_v2_99_0.813.keras')"
   ]
  },
  {
   "cell_type": "code",
   "execution_count": 40,
   "id": "3e7a7a0b-8819-4821-bdde-ac9cd189c584",
   "metadata": {},
   "outputs": [],
   "source": [
    "from tensorflow.keras.preprocessing.image import load_img\n",
    "import numpy as np\n",
    "from tensorflow.keras.applications.resnet import preprocess_input"
   ]
  },
  {
   "cell_type": "code",
   "execution_count": 41,
   "id": "0b2ce2a3-c200-4a13-895e-c198bf4e35cf",
   "metadata": {},
   "outputs": [],
   "source": [
    "path = './data/Test/00002.png'"
   ]
  },
  {
   "cell_type": "code",
   "execution_count": 42,
   "id": "02d29979-5d1b-4a6d-bfc7-9e8db416c187",
   "metadata": {},
   "outputs": [],
   "source": [
    "img = load_img(path, target_size=(32,32))"
   ]
  },
  {
   "cell_type": "code",
   "execution_count": 43,
   "id": "1da898a5-a113-4c1f-8b18-d11e50b0d231",
   "metadata": {},
   "outputs": [
    {
     "data": {
      "image/jpeg": "[encoded data removed]",
      "image/png": "[encoded data removed]",
      "text/plain": [
       "<PIL.Image.Image image mode=RGB size=32x32>"
      ]
     },
     "execution_count": 43,
     "metadata": {},
     "output_type": "execute_result"
    }
   ],
   "source": [
    "img"
   ]
  },
  {
   "cell_type": "code",
   "execution_count": 44,
   "id": "65eafed1-74bb-4d62-b4f1-efc776da76ba",
   "metadata": {},
   "outputs": [],
   "source": [
    "x = np.array(img)\n",
    "X = np.array([x])\n",
    "X = preprocess_input(X)"
   ]
  },
  {
   "cell_type": "code",
   "execution_count": 45,
   "id": "16e21a84-a298-4f19-b5b2-77ad7609d99e",
   "metadata": {},
   "outputs": [
    {
     "name": "stdout",
     "output_type": "stream",
     "text": [
      "\u001b[1m1/1\u001b[0m \u001b[32m━━━━━━━━━━━━━━━━━━━━\u001b[0m\u001b[37m\u001b[0m \u001b[1m3s\u001b[0m 3s/step\n"
     ]
    }
   ],
   "source": [
    "pred = model.predict(X)"
   ]
  },
  {
   "cell_type": "code",
   "execution_count": 46,
   "id": "628fb5aa-7070-4bec-a661-6f39d080e901",
   "metadata": {},
   "outputs": [],
   "source": [
    "class_num = pred[0].argmax()\n",
    "class_name = classes[class_num]"
   ]
  },
  {
   "cell_type": "code",
   "execution_count": 47,
   "id": "eebd3712-6a54-438c-ba1d-f0d71bba9ef0",
   "metadata": {},
   "outputs": [
    {
     "data": {
      "text/plain": [
       "(np.int64(23), 'Slippery road')"
      ]
     },
     "execution_count": 47,
     "metadata": {},
     "output_type": "execute_result"
    }
   ],
   "source": [
    "class_num, class_name"
   ]
  },
  {
   "cell_type": "code",
   "execution_count": null,
   "id": "114d16b2-a710-45a0-b74f-aa77da72ca81",
   "metadata": {},
   "outputs": [],
   "source": []
  }
 ],
 "metadata": {
  "kernelspec": {
   "display_name": "Python 3 (ipykernel)",
   "language": "python",
   "name": "python3"
  },
  "language_info": {
   "codemirror_mode": {
    "name": "ipython",
    "version": 3
   },
   "file_extension": ".py",
   "mimetype": "text/x-python",
   "name": "python",
   "nbconvert_exporter": "python",
   "pygments_lexer": "ipython3",
   "version": "3.12.3"
  }
 },
 "nbformat": 4,
 "nbformat_minor": 5
}
